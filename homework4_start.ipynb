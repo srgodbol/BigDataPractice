{
 "cells": [
  {
   "cell_type": "code",
   "execution_count": 1,
   "metadata": {},
   "outputs": [],
   "source": [
    "# Load the packages needed for this part\n",
    "# create spark and sparkcontext objects\n",
    "from pyspark.sql import SparkSession\n",
    "import numpy as np\n",
    "\n",
    "spark = SparkSession.builder.getOrCreate()\n",
    "sc = spark.sparkContext\n",
    "\n",
    "from pyspark.ml import feature\n",
    "from pyspark.ml import regression\n",
    "from pyspark.sql import functions as fn\n",
    "from pyspark.sql import Row\n",
    "from pyspark import sql\n",
    "\n",
    "import matplotlib.pyplot as plt\n",
    "import pandas as pd"
   ]
  },
  {
   "cell_type": "markdown",
   "metadata": {},
   "source": [
    "# Servo data analysis\n",
    "\n",
    "```console\n",
    "1. Title: Servo Data\n",
    "\n",
    "2. Sources\n",
    "   (a) Created by: Karl Ulrich (MIT) in 1986\n",
    "   (b) Donor: Ross Quinlan\n",
    "   (c) Date: May 1993\n",
    "\n",
    "3. Past Usage:\n",
    "\n",
    "   1.  Quinlan, J.R., \"Learning with continuous classes\", Proc. 5th Australian\n",
    "       Joint Conference on AI (eds A. Adams and L. Sterling), Singapore: World\n",
    "       Scientific, 1992\n",
    " \n",
    "   2.  Quinlan, J.R., \"Combining instance-based and model-based learning\",\n",
    "       Proc. ML'93 (ed P.E. Utgoff), San Mateo: Morgan Kaufmann 1993\n",
    " \n",
    "       Results on 10-way cross-validation:\n",
    " \n",
    "       Method\t\t\tAverage\t\tRelative\n",
    "       ------\t\t\t |Err|\t\t Error\n",
    " \t\t\t\t-------\t\t--------\n",
    " \n",
    "       Guessing mean\t\t  1.15\t\t  1.00\n",
    "       Instance-based\t\t   .52\t\t   .26\n",
    "       Regression\t\t   .86\t\t   .49\n",
    "       Model trees\t\t   .45\t\t   .29\n",
    "       Neural nets (G. Hinton)\t   .30\t\t   .11\n",
    "       Regression+instances\t   .48\t\t   .20\n",
    "       Model trees+instances\t   .30\t\t   .17\n",
    "       NN+instances\t\t   .29\t\t   .11\n",
    " \n",
    "4. Relevant Information:\n",
    "\n",
    "   Ross Quinlan:\n",
    "\n",
    "   This data was given to me by Karl Ulrich at MIT in 1986.  I didn't \n",
    "   record his description at the time, but here's his subsequent (1992) \n",
    "   recollection:\n",
    " \n",
    "     \"I seem to remember that the data was from a simulation of a servo\n",
    "     system involving a servo amplifier, a motor, a lead screw/nut, and a\n",
    "     sliding carriage of some sort.  It may have been on of the\n",
    "     translational axes of a robot on the 9th floor of the AI lab.  In any\n",
    "     case, the output value is almost certainly a rise time, or the time\n",
    "     required for the system to respond to a step change in a position set\n",
    "     point.\"\n",
    " \n",
    "   (Quinlan, ML'93)\n",
    "\n",
    "   \"This is an interesting collection of data provided by Karl \n",
    "    Ulrich.  It covers an extremely non-linear phenomenon - predicting the \n",
    "    rise time of a servomechanism in terms of two (continuous) gain settings\n",
    "    and two (discrete) choices of mechanical linkages.\"\n",
    "\n",
    "5. Number of Instances: 167\n",
    "\n",
    "6. Number of Attributes: 4 + numeric class attribute\n",
    "\n",
    "7. Attribute information:\n",
    "\n",
    "   1. motor: A,B,C,D,E\n",
    "   2. screw: A,B,C,D,E\n",
    "   3. pgain: 3,4,5,6\n",
    "   4. vgain: 1,2,3,4,5\n",
    "   5. class: 0.13 to 7.10\n",
    "\n",
    "8. Missing Attribute Values: None\n",
    "```"
   ]
  },
  {
   "cell_type": "code",
   "execution_count": 2,
   "metadata": {},
   "outputs": [],
   "source": [
    "data_url = \"https://archive.ics.uci.edu/ml/machine-learning-databases/servo/servo.data\""
   ]
  },
  {
   "cell_type": "code",
   "execution_count": 3,
   "metadata": {},
   "outputs": [],
   "source": [
    "servo_df = spark.createDataFrame(pd.read_csv(data_url, \n",
    "            sep=',', \n",
    "            header=None,\n",
    "            names=['motor', 'screw', 'pgain', 'vgain', 'rise_time']))"
   ]
  },
  {
   "cell_type": "code",
   "execution_count": 4,
   "metadata": {},
   "outputs": [
    {
     "name": "stdout",
     "output_type": "stream",
     "text": [
      "root\n",
      " |-- motor: string (nullable = true)\n",
      " |-- screw: string (nullable = true)\n",
      " |-- pgain: long (nullable = true)\n",
      " |-- vgain: long (nullable = true)\n",
      " |-- rise_time: double (nullable = true)\n",
      "\n"
     ]
    }
   ],
   "source": [
    "servo_df.printSchema()"
   ]
  },
  {
   "cell_type": "markdown",
   "metadata": {},
   "source": [
    "# Explore the data"
   ]
  },
  {
   "cell_type": "markdown",
   "metadata": {},
   "source": [
    "## Use `limit` to plot a sample of the data"
   ]
  },
  {
   "cell_type": "code",
   "execution_count": 7,
   "metadata": {},
   "outputs": [
    {
     "data": {
      "text/plain": [
       "<matplotlib.axes._subplots.AxesSubplot at 0x7f7b7df46710>"
      ]
     },
     "execution_count": 7,
     "metadata": {},
     "output_type": "execute_result"
    },
    {
     "data": {
      "image/png": "[encoded data removed]",
      "text/plain": [
       "<Figure size 432x288 with 1 Axes>"
      ]
     },
     "metadata": {},
     "output_type": "display_data"
    }
   ],
   "source": [
    "servo_df.limit(50).toPandas().plot(x='pgain', y='rise_time', kind='scatter')"
   ]
  },
  {
   "cell_type": "code",
   "execution_count": 8,
   "metadata": {},
   "outputs": [
    {
     "data": {
      "text/plain": [
       "<matplotlib.axes._subplots.AxesSubplot at 0x7f7b7de9b8d0>"
      ]
     },
     "execution_count": 8,
     "metadata": {},
     "output_type": "execute_result"
    },
    {
     "data": {
      "image/png": "[encoded data removed]",
      "text/plain": [
       "<Figure size 432x288 with 1 Axes>"
      ]
     },
     "metadata": {},
     "output_type": "display_data"
    }
   ],
   "source": [
    "servo_df.limit(50).toPandas().plot(x='vgain', y='rise_time', kind='scatter')"
   ]
  },
  {
   "cell_type": "markdown",
   "metadata": {},
   "source": [
    "## Perform correlations"
   ]
  },
  {
   "cell_type": "code",
   "execution_count": 34,
   "metadata": {},
   "outputs": [
    {
     "name": "stdout",
     "output_type": "stream",
     "text": [
      "+----------------------+----------------------+------------------+\n",
      "|corr(pgain, rise_time)|corr(vgain, rise_time)|corr(pgain, vgain)|\n",
      "+----------------------+----------------------+------------------+\n",
      "|   -0.5981287119612234|  -0.36438266626914595|0.8122683058183875|\n",
      "+----------------------+----------------------+------------------+\n",
      "\n"
     ]
    }
   ],
   "source": [
    "# correlations\n",
    "servo_df.select(fn.corr('pgain', 'rise_time'),fn.corr('vgain', 'rise_time'),fn.corr('pgain', 'vgain')).show()"
   ]
  },
  {
   "cell_type": "markdown",
   "metadata": {},
   "source": [
    "## Compute  mean rise_time for different motors and screws"
   ]
  },
  {
   "cell_type": "code",
   "execution_count": 51,
   "metadata": {},
   "outputs": [
    {
     "name": "stdout",
     "output_type": "stream",
     "text": [
      "+-----+-----+------------------+\n",
      "|motor|screw|    avg(rise_time)|\n",
      "+-----+-----+------------------+\n",
      "|    E|    E|0.6187516666666667|\n",
      "|    D|    A|1.1580320357142857|\n",
      "|    E|    B|1.0026771985714287|\n",
      "|    B|    C|1.5830305242857141|\n",
      "|    D|    C|0.9145837666666666|\n",
      "|    D|    E|0.7000006999999999|\n",
      "|    A|    A|2.0171983987499997|\n",
      "|    A|    C|1.6491035671428573|\n",
      "|    D|    D|0.8520823599999999|\n",
      "|    C|    B| 1.615173607142857|\n",
      "|    A|    E|1.6098147800000002|\n",
      "|    E|    C|0.6580362642857143|\n",
      "|    C|    C|1.2473184685714285|\n",
      "|    C|    A|1.3489604899999998|\n",
      "|    E|    D|0.6979180566666666|\n",
      "|    C|    D|0.8258923142857143|\n",
      "|    A|    D|1.6616027514285712|\n",
      "|    D|    B|0.7687501842857143|\n",
      "|    E|    A|2.6080661842857147|\n",
      "|    B|    B|        1.74196167|\n",
      "+-----+-----+------------------+\n",
      "only showing top 20 rows\n",
      "\n"
     ]
    }
   ],
   "source": [
    "# your code here\n",
    "servo_df.groupby('motor', 'screw').mean('rise_time').show()"
   ]
  },
  {
   "cell_type": "markdown",
   "metadata": {},
   "source": [
    "# Feature engineering"
   ]
  },
  {
   "cell_type": "markdown",
   "metadata": {},
   "source": [
    "## Create a dataframe with columns `motor` and `screw` as dummy variables"
   ]
  },
  {
   "cell_type": "code",
   "execution_count": 67,
   "metadata": {},
   "outputs": [
    {
     "name": "stdout",
     "output_type": "stream",
     "text": [
      "+-----+-------+-------+-------+-------+-----+-------+-------+-------+-------+-----+-----+----------+\n",
      "|motor|motor_A|motor_C|motor_D|motor_E|screw|screw_B|screw_C|screw_D|screw_E|pgain|vgain| rise_time|\n",
      "+-----+-------+-------+-------+-------+-----+-------+-------+-------+-------+-----+-----+----------+\n",
      "|    E|    0.0|    0.0|    0.0|    1.0|    E|    0.0|    0.0|    0.0|    1.0|    5|    4|0.28125095|\n",
      "|    B|    0.0|    0.0|    0.0|    0.0|    D|    0.0|    0.0|    1.0|    0.0|    6|    5| 0.5062525|\n",
      "+-----+-------+-------+-------+-------+-----+-------+-------+-------+-------+-----+-----+----------+\n",
      "only showing top 2 rows\n",
      "\n"
     ]
    }
   ],
   "source": [
    "# code here\n",
    "dummy_Df = servo_df.select('motor',\n",
    "               (fn.col('motor')=='A').cast('float').alias('motor_A'),\n",
    "               (fn.col('motor')=='C').cast('float').alias('motor_C'),\n",
    "               (fn.col('motor')=='D').cast('float').alias('motor_D'),\n",
    "               (fn.col('motor')=='E').cast('float').alias('motor_E'),\n",
    "               'screw',\n",
    "               (fn.col('screw')=='B').cast('float').alias('screw_B'),\n",
    "               (fn.col('screw')=='C').cast('float').alias('screw_C'),\n",
    "               (fn.col('screw')=='D').cast('float').alias('screw_D'),\n",
    "               (fn.col('screw')=='E').cast('float').alias('screw_E'),\n",
    "               'pgain',\n",
    "               'vgain',\n",
    "               'rise_time'            \n",
    "               )\n",
    "dummy_Df.show(2)"
   ]
  },
  {
   "cell_type": "markdown",
   "metadata": {},
   "source": [
    "## Standardize vgain and pgain"
   ]
  },
  {
   "cell_type": "code",
   "execution_count": 73,
   "metadata": {},
   "outputs": [
    {
     "ename": "AnalysisException",
     "evalue": "\"grouping expressions sequence is empty, and '`motor`' is not an aggregate function. Wrap '(((CAST(`vgain` AS DOUBLE) - avg(`vgain`)) / stddev_samp(CAST(`vgain` AS DOUBLE))) AS `z_vgain`, ((CAST(`pgain` AS DOUBLE) - avg(`pgain`)) / stddev_samp(CAST(`pgain` AS DOUBLE))) AS `z_pgain`)' in windowing function(s) or wrap '`motor`' in first() (or first_value) if you don't care which value you get.;;\\nAggregate [motor#0, motor_A#1247, motor_C#1248, motor_D#1249, motor_E#1250, screw#1, screw_B#1251, screw_C#1252, screw_D#1253, screw_E#1254, pgain#2L, vgain#3L, rise_time#4, ((cast(vgain#3L as double) - avg(vgain#3L)) / stddev_samp(cast(vgain#3L as double))) AS z_vgain#1529, ((cast(pgain#2L as double) - avg(pgain#2L)) / stddev_samp(cast(pgain#2L as double))) AS z_pgain#1540]\\n+- AnalysisBarrier\\n      +- Project [motor#0, cast((motor#0 = A) as float) AS motor_A#1247, cast((motor#0 = C) as float) AS motor_C#1248, cast((motor#0 = D) as float) AS motor_D#1249, cast((motor#0 = E) as float) AS motor_E#1250, screw#1, cast((screw#1 = B) as float) AS screw_B#1251, cast((screw#1 = C) as float) AS screw_C#1252, cast((screw#1 = D) as float) AS screw_D#1253, cast((screw#1 = E) as float) AS screw_E#1254, pgain#2L, vgain#3L, rise_time#4]\\n         +- Project [CASE WHEN (motor#0 = E) THEN 1 ELSE 0 END AS E#510, CASE WHEN (motor#0 = B) THEN 1 ELSE 0 END AS B#511, CASE WHEN (motor#0 = D) THEN 1 ELSE 0 END AS D#512, CASE WHEN (motor#0 = C) THEN 1 ELSE 0 END AS C#513, CASE WHEN (motor#0 = A) THEN 1 ELSE 0 END AS A#514, E#493, B#494, D#495, C#496, A#497, motor#0, screw#1, pgain#2L, vgain#3L, rise_time#4]\\n            +- Project [CASE WHEN (motor#0 = E) THEN 1 ELSE 0 END AS E#493, CASE WHEN (motor#0 = B) THEN 1 ELSE 0 END AS B#494, CASE WHEN (motor#0 = D) THEN 1 ELSE 0 END AS D#495, CASE WHEN (motor#0 = C) THEN 1 ELSE 0 END AS C#496, CASE WHEN (motor#0 = A) THEN 1 ELSE 0 END AS A#497, motor#0, screw#1, pgain#2L, vgain#3L, rise_time#4]\\n               +- LogicalRDD [motor#0, screw#1, pgain#2L, vgain#3L, rise_time#4], false\\n\"",
     "output_type": "error",
     "traceback": [
      "\u001b[0;31m---------------------------------------------------------------------------\u001b[0m",
      "\u001b[0;31mPy4JJavaError\u001b[0m                             Traceback (most recent call last)",
      "\u001b[0;32m/usr/local/spark/python/pyspark/sql/utils.py\u001b[0m in \u001b[0;36mdeco\u001b[0;34m(*a, **kw)\u001b[0m\n\u001b[1;32m     62\u001b[0m         \u001b[0;32mtry\u001b[0m\u001b[0;34m:\u001b[0m\u001b[0;34m\u001b[0m\u001b[0m\n\u001b[0;32m---> 63\u001b[0;31m             \u001b[0;32mreturn\u001b[0m \u001b[0mf\u001b[0m\u001b[0;34m(\u001b[0m\u001b[0;34m*\u001b[0m\u001b[0ma\u001b[0m\u001b[0;34m,\u001b[0m \u001b[0;34m**\u001b[0m\u001b[0mkw\u001b[0m\u001b[0;34m)\u001b[0m\u001b[0;34m\u001b[0m\u001b[0m\n\u001b[0m\u001b[1;32m     64\u001b[0m         \u001b[0;32mexcept\u001b[0m \u001b[0mpy4j\u001b[0m\u001b[0;34m.\u001b[0m\u001b[0mprotocol\u001b[0m\u001b[0;34m.\u001b[0m\u001b[0mPy4JJavaError\u001b[0m \u001b[0;32mas\u001b[0m \u001b[0me\u001b[0m\u001b[0;34m:\u001b[0m\u001b[0;34m\u001b[0m\u001b[0m\n",
      "\u001b[0;32m/usr/local/spark/python/lib/py4j-0.10.7-src.zip/py4j/protocol.py\u001b[0m in \u001b[0;36mget_return_value\u001b[0;34m(answer, gateway_client, target_id, name)\u001b[0m\n\u001b[1;32m    327\u001b[0m                     \u001b[0;34m\"An error occurred while calling {0}{1}{2}.\\n\"\u001b[0m\u001b[0;34m.\u001b[0m\u001b[0;34m\u001b[0m\u001b[0m\n\u001b[0;32m--> 328\u001b[0;31m                     format(target_id, \".\", name), value)\n\u001b[0m\u001b[1;32m    329\u001b[0m             \u001b[0;32melse\u001b[0m\u001b[0;34m:\u001b[0m\u001b[0;34m\u001b[0m\u001b[0m\n",
      "\u001b[0;31mPy4JJavaError\u001b[0m: An error occurred while calling o1564.select.\n: org.apache.spark.sql.AnalysisException: grouping expressions sequence is empty, and '`motor`' is not an aggregate function. Wrap '(((CAST(`vgain` AS DOUBLE) - avg(`vgain`)) / stddev_samp(CAST(`vgain` AS DOUBLE))) AS `z_vgain`, ((CAST(`pgain` AS DOUBLE) - avg(`pgain`)) / stddev_samp(CAST(`pgain` AS DOUBLE))) AS `z_pgain`)' in windowing function(s) or wrap '`motor`' in first() (or first_value) if you don't care which value you get.;;\nAggregate [motor#0, motor_A#1247, motor_C#1248, motor_D#1249, motor_E#1250, screw#1, screw_B#1251, screw_C#1252, screw_D#1253, screw_E#1254, pgain#2L, vgain#3L, rise_time#4, ((cast(vgain#3L as double) - avg(vgain#3L)) / stddev_samp(cast(vgain#3L as double))) AS z_vgain#1529, ((cast(pgain#2L as double) - avg(pgain#2L)) / stddev_samp(cast(pgain#2L as double))) AS z_pgain#1540]\n+- AnalysisBarrier\n      +- Project [motor#0, cast((motor#0 = A) as float) AS motor_A#1247, cast((motor#0 = C) as float) AS motor_C#1248, cast((motor#0 = D) as float) AS motor_D#1249, cast((motor#0 = E) as float) AS motor_E#1250, screw#1, cast((screw#1 = B) as float) AS screw_B#1251, cast((screw#1 = C) as float) AS screw_C#1252, cast((screw#1 = D) as float) AS screw_D#1253, cast((screw#1 = E) as float) AS screw_E#1254, pgain#2L, vgain#3L, rise_time#4]\n         +- Project [CASE WHEN (motor#0 = E) THEN 1 ELSE 0 END AS E#510, CASE WHEN (motor#0 = B) THEN 1 ELSE 0 END AS B#511, CASE WHEN (motor#0 = D) THEN 1 ELSE 0 END AS D#512, CASE WHEN (motor#0 = C) THEN 1 ELSE 0 END AS C#513, CASE WHEN (motor#0 = A) THEN 1 ELSE 0 END AS A#514, E#493, B#494, D#495, C#496, A#497, motor#0, screw#1, pgain#2L, vgain#3L, rise_time#4]\n            +- Project [CASE WHEN (motor#0 = E) THEN 1 ELSE 0 END AS E#493, CASE WHEN (motor#0 = B) THEN 1 ELSE 0 END AS B#494, CASE WHEN (motor#0 = D) THEN 1 ELSE 0 END AS D#495, CASE WHEN (motor#0 = C) THEN 1 ELSE 0 END AS C#496, CASE WHEN (motor#0 = A) THEN 1 ELSE 0 END AS A#497, motor#0, screw#1, pgain#2L, vgain#3L, rise_time#4]\n               +- LogicalRDD [motor#0, screw#1, pgain#2L, vgain#3L, rise_time#4], false\n\n\tat org.apache.spark.sql.catalyst.analysis.CheckAnalysis$class.failAnalysis(CheckAnalysis.scala:41)\n\tat org.apache.spark.sql.catalyst.analysis.Analyzer.failAnalysis(Analyzer.scala:92)\n\tat org.apache.spark.sql.catalyst.analysis.CheckAnalysis$$anonfun$checkAnalysis$1.org$apache$spark$sql$catalyst$analysis$CheckAnalysis$class$$anonfun$$checkValidAggregateExpression$1(CheckAnalysis.scala:179)\n\tat org.apache.spark.sql.catalyst.analysis.CheckAnalysis$$anonfun$checkAnalysis$1$$anonfun$apply$9.apply(CheckAnalysis.scala:220)\n\tat org.apache.spark.sql.catalyst.analysis.CheckAnalysis$$anonfun$checkAnalysis$1$$anonfun$apply$9.apply(CheckAnalysis.scala:220)\n\tat scala.collection.mutable.ResizableArray$class.foreach(ResizableArray.scala:59)\n\tat scala.collection.mutable.ArrayBuffer.foreach(ArrayBuffer.scala:48)\n\tat org.apache.spark.sql.catalyst.analysis.CheckAnalysis$$anonfun$checkAnalysis$1.apply(CheckAnalysis.scala:220)\n\tat org.apache.spark.sql.catalyst.analysis.CheckAnalysis$$anonfun$checkAnalysis$1.apply(CheckAnalysis.scala:80)\n\tat org.apache.spark.sql.catalyst.trees.TreeNode.foreachUp(TreeNode.scala:127)\n\tat org.apache.spark.sql.catalyst.analysis.CheckAnalysis$class.checkAnalysis(CheckAnalysis.scala:80)\n\tat org.apache.spark.sql.catalyst.analysis.Analyzer.checkAnalysis(Analyzer.scala:92)\n\tat org.apache.spark.sql.catalyst.analysis.Analyzer.executeAndCheck(Analyzer.scala:105)\n\tat org.apache.spark.sql.execution.QueryExecution.analyzed$lzycompute(QueryExecution.scala:57)\n\tat org.apache.spark.sql.execution.QueryExecution.analyzed(QueryExecution.scala:55)\n\tat org.apache.spark.sql.execution.QueryExecution.assertAnalyzed(QueryExecution.scala:47)\n\tat org.apache.spark.sql.Dataset$.ofRows(Dataset.scala:74)\n\tat org.apache.spark.sql.Dataset.org$apache$spark$sql$Dataset$$withPlan(Dataset.scala:3296)\n\tat org.apache.spark.sql.Dataset.select(Dataset.scala:1307)\n\tat sun.reflect.GeneratedMethodAccessor109.invoke(Unknown Source)\n\tat sun.reflect.DelegatingMethodAccessorImpl.invoke(DelegatingMethodAccessorImpl.java:43)\n\tat java.lang.reflect.Method.invoke(Method.java:498)\n\tat py4j.reflection.MethodInvoker.invoke(MethodInvoker.java:244)\n\tat py4j.reflection.ReflectionEngine.invoke(ReflectionEngine.java:357)\n\tat py4j.Gateway.invoke(Gateway.java:282)\n\tat py4j.commands.AbstractCommand.invokeMethod(AbstractCommand.java:132)\n\tat py4j.commands.CallCommand.execute(CallCommand.java:79)\n\tat py4j.GatewayConnection.run(GatewayConnection.java:238)\n\tat java.lang.Thread.run(Thread.java:748)\n",
      "\nDuring handling of the above exception, another exception occurred:\n",
      "\u001b[0;31mAnalysisException\u001b[0m                         Traceback (most recent call last)",
      "\u001b[0;32m<ipython-input-73-b7659b6b98eb>\u001b[0m in \u001b[0;36m<module>\u001b[0;34m()\u001b[0m\n\u001b[1;32m      2\u001b[0m dummy_Df.select(dummy_Df.columns + [\n\u001b[1;32m      3\u001b[0m     \u001b[0;34m(\u001b[0m\u001b[0;34m(\u001b[0m\u001b[0mfn\u001b[0m\u001b[0;34m.\u001b[0m\u001b[0mcol\u001b[0m\u001b[0;34m(\u001b[0m\u001b[0;34m'vgain'\u001b[0m\u001b[0;34m)\u001b[0m \u001b[0;34m-\u001b[0m \u001b[0mfn\u001b[0m\u001b[0;34m.\u001b[0m\u001b[0mavg\u001b[0m\u001b[0;34m(\u001b[0m\u001b[0;34m'vgain'\u001b[0m\u001b[0;34m)\u001b[0m\u001b[0;34m)\u001b[0m\u001b[0;34m/\u001b[0m\u001b[0mfn\u001b[0m\u001b[0;34m.\u001b[0m\u001b[0mstddev\u001b[0m\u001b[0;34m(\u001b[0m\u001b[0;34m'vgain'\u001b[0m\u001b[0;34m)\u001b[0m\u001b[0;34m)\u001b[0m\u001b[0;34m.\u001b[0m\u001b[0malias\u001b[0m\u001b[0;34m(\u001b[0m\u001b[0;34m'z_vgain'\u001b[0m\u001b[0;34m)\u001b[0m\u001b[0;34m,\u001b[0m\u001b[0;34m\u001b[0m\u001b[0m\n\u001b[0;32m----> 4\u001b[0;31m     \u001b[0;34m(\u001b[0m\u001b[0;34m(\u001b[0m\u001b[0mfn\u001b[0m\u001b[0;34m.\u001b[0m\u001b[0mcol\u001b[0m\u001b[0;34m(\u001b[0m\u001b[0;34m'pgain'\u001b[0m\u001b[0;34m)\u001b[0m \u001b[0;34m-\u001b[0m \u001b[0mfn\u001b[0m\u001b[0;34m.\u001b[0m\u001b[0mavg\u001b[0m\u001b[0;34m(\u001b[0m\u001b[0;34m'pgain'\u001b[0m\u001b[0;34m)\u001b[0m\u001b[0;34m)\u001b[0m\u001b[0;34m/\u001b[0m\u001b[0mfn\u001b[0m\u001b[0;34m.\u001b[0m\u001b[0mstddev\u001b[0m\u001b[0;34m(\u001b[0m\u001b[0;34m'pgain'\u001b[0m\u001b[0;34m)\u001b[0m\u001b[0;34m)\u001b[0m\u001b[0;34m.\u001b[0m\u001b[0malias\u001b[0m\u001b[0;34m(\u001b[0m\u001b[0;34m'z_pgain'\u001b[0m\u001b[0;34m)\u001b[0m\u001b[0;34m,\u001b[0m\u001b[0;34m\u001b[0m\u001b[0m\n\u001b[0m\u001b[1;32m      5\u001b[0m ])\n",
      "\u001b[0;32m/usr/local/spark/python/pyspark/sql/dataframe.py\u001b[0m in \u001b[0;36mselect\u001b[0;34m(self, *cols)\u001b[0m\n\u001b[1;32m   1200\u001b[0m         \u001b[0;34m[\u001b[0m\u001b[0mRow\u001b[0m\u001b[0;34m(\u001b[0m\u001b[0mname\u001b[0m\u001b[0;34m=\u001b[0m\u001b[0;34mu'Alice'\u001b[0m\u001b[0;34m,\u001b[0m \u001b[0mage\u001b[0m\u001b[0;34m=\u001b[0m\u001b[0;36m12\u001b[0m\u001b[0;34m)\u001b[0m\u001b[0;34m,\u001b[0m \u001b[0mRow\u001b[0m\u001b[0;34m(\u001b[0m\u001b[0mname\u001b[0m\u001b[0;34m=\u001b[0m\u001b[0;34mu'Bob'\u001b[0m\u001b[0;34m,\u001b[0m \u001b[0mage\u001b[0m\u001b[0;34m=\u001b[0m\u001b[0;36m15\u001b[0m\u001b[0;34m)\u001b[0m\u001b[0;34m]\u001b[0m\u001b[0;34m\u001b[0m\u001b[0m\n\u001b[1;32m   1201\u001b[0m         \"\"\"\n\u001b[0;32m-> 1202\u001b[0;31m         \u001b[0mjdf\u001b[0m \u001b[0;34m=\u001b[0m \u001b[0mself\u001b[0m\u001b[0;34m.\u001b[0m\u001b[0m_jdf\u001b[0m\u001b[0;34m.\u001b[0m\u001b[0mselect\u001b[0m\u001b[0;34m(\u001b[0m\u001b[0mself\u001b[0m\u001b[0;34m.\u001b[0m\u001b[0m_jcols\u001b[0m\u001b[0;34m(\u001b[0m\u001b[0;34m*\u001b[0m\u001b[0mcols\u001b[0m\u001b[0;34m)\u001b[0m\u001b[0;34m)\u001b[0m\u001b[0;34m\u001b[0m\u001b[0m\n\u001b[0m\u001b[1;32m   1203\u001b[0m         \u001b[0;32mreturn\u001b[0m \u001b[0mDataFrame\u001b[0m\u001b[0;34m(\u001b[0m\u001b[0mjdf\u001b[0m\u001b[0;34m,\u001b[0m \u001b[0mself\u001b[0m\u001b[0;34m.\u001b[0m\u001b[0msql_ctx\u001b[0m\u001b[0;34m)\u001b[0m\u001b[0;34m\u001b[0m\u001b[0m\n\u001b[1;32m   1204\u001b[0m \u001b[0;34m\u001b[0m\u001b[0m\n",
      "\u001b[0;32m/usr/local/spark/python/lib/py4j-0.10.7-src.zip/py4j/java_gateway.py\u001b[0m in \u001b[0;36m__call__\u001b[0;34m(self, *args)\u001b[0m\n\u001b[1;32m   1255\u001b[0m         \u001b[0manswer\u001b[0m \u001b[0;34m=\u001b[0m \u001b[0mself\u001b[0m\u001b[0;34m.\u001b[0m\u001b[0mgateway_client\u001b[0m\u001b[0;34m.\u001b[0m\u001b[0msend_command\u001b[0m\u001b[0;34m(\u001b[0m\u001b[0mcommand\u001b[0m\u001b[0;34m)\u001b[0m\u001b[0;34m\u001b[0m\u001b[0m\n\u001b[1;32m   1256\u001b[0m         return_value = get_return_value(\n\u001b[0;32m-> 1257\u001b[0;31m             answer, self.gateway_client, self.target_id, self.name)\n\u001b[0m\u001b[1;32m   1258\u001b[0m \u001b[0;34m\u001b[0m\u001b[0m\n\u001b[1;32m   1259\u001b[0m         \u001b[0;32mfor\u001b[0m \u001b[0mtemp_arg\u001b[0m \u001b[0;32min\u001b[0m \u001b[0mtemp_args\u001b[0m\u001b[0;34m:\u001b[0m\u001b[0;34m\u001b[0m\u001b[0m\n",
      "\u001b[0;32m/usr/local/spark/python/pyspark/sql/utils.py\u001b[0m in \u001b[0;36mdeco\u001b[0;34m(*a, **kw)\u001b[0m\n\u001b[1;32m     67\u001b[0m                                              e.java_exception.getStackTrace()))\n\u001b[1;32m     68\u001b[0m             \u001b[0;32mif\u001b[0m \u001b[0ms\u001b[0m\u001b[0;34m.\u001b[0m\u001b[0mstartswith\u001b[0m\u001b[0;34m(\u001b[0m\u001b[0;34m'org.apache.spark.sql.AnalysisException: '\u001b[0m\u001b[0;34m)\u001b[0m\u001b[0;34m:\u001b[0m\u001b[0;34m\u001b[0m\u001b[0m\n\u001b[0;32m---> 69\u001b[0;31m                 \u001b[0;32mraise\u001b[0m \u001b[0mAnalysisException\u001b[0m\u001b[0;34m(\u001b[0m\u001b[0ms\u001b[0m\u001b[0;34m.\u001b[0m\u001b[0msplit\u001b[0m\u001b[0;34m(\u001b[0m\u001b[0;34m': '\u001b[0m\u001b[0;34m,\u001b[0m \u001b[0;36m1\u001b[0m\u001b[0;34m)\u001b[0m\u001b[0;34m[\u001b[0m\u001b[0;36m1\u001b[0m\u001b[0;34m]\u001b[0m\u001b[0;34m,\u001b[0m \u001b[0mstackTrace\u001b[0m\u001b[0;34m)\u001b[0m\u001b[0;34m\u001b[0m\u001b[0m\n\u001b[0m\u001b[1;32m     70\u001b[0m             \u001b[0;32mif\u001b[0m \u001b[0ms\u001b[0m\u001b[0;34m.\u001b[0m\u001b[0mstartswith\u001b[0m\u001b[0;34m(\u001b[0m\u001b[0;34m'org.apache.spark.sql.catalyst.analysis'\u001b[0m\u001b[0;34m)\u001b[0m\u001b[0;34m:\u001b[0m\u001b[0;34m\u001b[0m\u001b[0m\n\u001b[1;32m     71\u001b[0m                 \u001b[0;32mraise\u001b[0m \u001b[0mAnalysisException\u001b[0m\u001b[0;34m(\u001b[0m\u001b[0ms\u001b[0m\u001b[0;34m.\u001b[0m\u001b[0msplit\u001b[0m\u001b[0;34m(\u001b[0m\u001b[0;34m': '\u001b[0m\u001b[0;34m,\u001b[0m \u001b[0;36m1\u001b[0m\u001b[0;34m)\u001b[0m\u001b[0;34m[\u001b[0m\u001b[0;36m1\u001b[0m\u001b[0;34m]\u001b[0m\u001b[0;34m,\u001b[0m \u001b[0mstackTrace\u001b[0m\u001b[0;34m)\u001b[0m\u001b[0;34m\u001b[0m\u001b[0m\n",
      "\u001b[0;31mAnalysisException\u001b[0m: \"grouping expressions sequence is empty, and '`motor`' is not an aggregate function. Wrap '(((CAST(`vgain` AS DOUBLE) - avg(`vgain`)) / stddev_samp(CAST(`vgain` AS DOUBLE))) AS `z_vgain`, ((CAST(`pgain` AS DOUBLE) - avg(`pgain`)) / stddev_samp(CAST(`pgain` AS DOUBLE))) AS `z_pgain`)' in windowing function(s) or wrap '`motor`' in first() (or first_value) if you don't care which value you get.;;\\nAggregate [motor#0, motor_A#1247, motor_C#1248, motor_D#1249, motor_E#1250, screw#1, screw_B#1251, screw_C#1252, screw_D#1253, screw_E#1254, pgain#2L, vgain#3L, rise_time#4, ((cast(vgain#3L as double) - avg(vgain#3L)) / stddev_samp(cast(vgain#3L as double))) AS z_vgain#1529, ((cast(pgain#2L as double) - avg(pgain#2L)) / stddev_samp(cast(pgain#2L as double))) AS z_pgain#1540]\\n+- AnalysisBarrier\\n      +- Project [motor#0, cast((motor#0 = A) as float) AS motor_A#1247, cast((motor#0 = C) as float) AS motor_C#1248, cast((motor#0 = D) as float) AS motor_D#1249, cast((motor#0 = E) as float) AS motor_E#1250, screw#1, cast((screw#1 = B) as float) AS screw_B#1251, cast((screw#1 = C) as float) AS screw_C#1252, cast((screw#1 = D) as float) AS screw_D#1253, cast((screw#1 = E) as float) AS screw_E#1254, pgain#2L, vgain#3L, rise_time#4]\\n         +- Project [CASE WHEN (motor#0 = E) THEN 1 ELSE 0 END AS E#510, CASE WHEN (motor#0 = B) THEN 1 ELSE 0 END AS B#511, CASE WHEN (motor#0 = D) THEN 1 ELSE 0 END AS D#512, CASE WHEN (motor#0 = C) THEN 1 ELSE 0 END AS C#513, CASE WHEN (motor#0 = A) THEN 1 ELSE 0 END AS A#514, E#493, B#494, D#495, C#496, A#497, motor#0, screw#1, pgain#2L, vgain#3L, rise_time#4]\\n            +- Project [CASE WHEN (motor#0 = E) THEN 1 ELSE 0 END AS E#493, CASE WHEN (motor#0 = B) THEN 1 ELSE 0 END AS B#494, CASE WHEN (motor#0 = D) THEN 1 ELSE 0 END AS D#495, CASE WHEN (motor#0 = C) THEN 1 ELSE 0 END AS C#496, CASE WHEN (motor#0 = A) THEN 1 ELSE 0 END AS A#497, motor#0, screw#1, pgain#2L, vgain#3L, rise_time#4]\\n               +- LogicalRDD [motor#0, screw#1, pgain#2L, vgain#3L, rise_time#4], false\\n\""
     ]
    }
   ],
   "source": [
    "# your code here\n",
    "dummy_Df.select(dummy_Df.columns + [\n",
    "    ((fn.col('vgain') - fn.avg('vgain'))/fn.stddev('vgain')).alias('z_vgain'),\n",
    "    ((fn.col('pgain') - fn.avg('pgain'))/fn.stddev('pgain')).alias('z_pgain'),\n",
    "])"
   ]
  },
  {
   "cell_type": "markdown",
   "metadata": {},
   "source": [
    "# Split data into three parts"
   ]
  },
  {
   "cell_type": "code",
   "execution_count": 14,
   "metadata": {},
   "outputs": [],
   "source": [
    "# your code here"
   ]
  },
  {
   "cell_type": "markdown",
   "metadata": {},
   "source": [
    "# Propose three regression models"
   ]
  },
  {
   "cell_type": "markdown",
   "metadata": {},
   "source": [
    "## Fit model with only `pgain`"
   ]
  },
  {
   "cell_type": "code",
   "execution_count": 23,
   "metadata": {},
   "outputs": [],
   "source": [
    "# code"
   ]
  },
  {
   "cell_type": "markdown",
   "metadata": {},
   "source": [
    "## Fit model with only `vgain`"
   ]
  },
  {
   "cell_type": "code",
   "execution_count": 21,
   "metadata": {},
   "outputs": [],
   "source": [
    "# code"
   ]
  },
  {
   "cell_type": "markdown",
   "metadata": {},
   "source": [
    "## Fit model with only motor, screw, pgain, and vgain"
   ]
  },
  {
   "cell_type": "code",
   "execution_count": 24,
   "metadata": {},
   "outputs": [],
   "source": [
    "# code"
   ]
  },
  {
   "cell_type": "markdown",
   "metadata": {},
   "source": [
    "# Compare models"
   ]
  },
  {
   "cell_type": "markdown",
   "metadata": {},
   "source": [
    "## Estimate RMSE on validation data for the three models"
   ]
  },
  {
   "cell_type": "code",
   "execution_count": 26,
   "metadata": {},
   "outputs": [],
   "source": [
    "## Pick the best one"
   ]
  },
  {
   "cell_type": "code",
   "execution_count": 27,
   "metadata": {},
   "outputs": [],
   "source": [
    "# best_model = ..."
   ]
  },
  {
   "cell_type": "markdown",
   "metadata": {},
   "source": [
    "# Estimate generalization performance (RMSE on testing)"
   ]
  },
  {
   "cell_type": "code",
   "execution_count": 28,
   "metadata": {},
   "outputs": [],
   "source": [
    "##"
   ]
  },
  {
   "cell_type": "markdown",
   "metadata": {},
   "source": [
    "# Do inference with best model"
   ]
  },
  {
   "cell_type": "code",
   "execution_count": 29,
   "metadata": {},
   "outputs": [],
   "source": [
    "# interpret coefficients"
   ]
  }
 ],
 "metadata": {
  "kernelspec": {
   "display_name": "Python 3",
   "language": "python",
   "name": "python3"
  },
  "language_info": {
   "codemirror_mode": {
    "name": "ipython",
    "version": 3
   },
   "file_extension": ".py",
   "mimetype": "text/x-python",
   "name": "python",
   "nbconvert_exporter": "python",
   "pygments_lexer": "ipython3",
   "version": "3.6.6"
  }
 },
 "nbformat": 4,
 "nbformat_minor": 2
}
