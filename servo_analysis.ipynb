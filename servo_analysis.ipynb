{
 "cells": [
  {
   "cell_type": "raw",
   "metadata": {},
   "source": []
  },
  {
   "cell_type": "markdown",
   "metadata": {
    "deletable": false,
    "editable": false,
    "nbgrader": {
     "checksum": "c51f80b694da894627ba37be28c86055",
     "grade": false,
     "grade_id": "cell-b038e38b5e3072a9",
     "locked": true,
     "schema_version": 1,
     "solution": false
    }
   },
   "source": [
    "# IST 718: Big Data Analytics\n",
    "\n",
    "- Professor: Daniel Acuna <deacuna@syr.edu>\n",
    "- TAs: Tong Zeng <tozeng@syr.edu>, Priya Matnani <psmatnan@syr.edu>\n",
    "\n",
    "## General instructions:\n",
    "\n",
    "- You are welcome to discuss the problems with your classmates but __you are not allowed to copy any part of your answers either from your classmates or from the internet__\n",
    "- You can put the homework files anywhere you want in your http://notebook.acuna.io workspace but _do not change_ the file names. The TAs and the professor use these names to grade your homework.\n",
    "- Remove or comment out code that contains `raise NotImplementedError`. This is mainly to make the `assert` statement fail if nothing is submitted.\n",
    "- The tests shown in some cells (i.e., `assert` statements) are used to grade your answers. **However, the professor and TAs will use __additional__ test for your answer. Think about cases where your code should run even if it passess all the tests you see.**\n",
    "- Before downloading and submitting your work through Blackboard, remember to save and press `Validate` (or go to \n",
    "`Kernel`$\\rightarrow$`Restart and Run All`). \n",
    "- Good luck!"
   ]
  },
  {
   "cell_type": "code",
   "execution_count": 39,
   "metadata": {},
   "outputs": [],
   "source": [
    "# Load the packages needed for this part\n",
    "# create spark and sparkcontext objects\n",
    "from pyspark.sql import SparkSession\n",
    "import numpy as np\n",
    "\n",
    "spark = SparkSession.builder.getOrCreate()\n",
    "sc = spark.sparkContext\n",
    "\n",
    "import pyspark\n",
    "from pyspark.ml import feature, regression, Pipeline\n",
    "from pyspark.sql import functions as fn, Row\n",
    "from pyspark import sql\n",
    "\n",
    "import matplotlib.pyplot as plt\n",
    "import pandas as pd"
   ]
  },
  {
   "cell_type": "markdown",
   "metadata": {},
   "source": [
    "# Part 1: Servo analysis\n",
    "\n",
    "In this assignment, you will continue the analysis we started in class of the Servo dataset."
   ]
  },
  {
   "cell_type": "markdown",
   "metadata": {},
   "source": [
    "# Servo data analysis\n",
    "\n",
    "```console\n",
    "1. Title: Servo Data\n",
    "\n",
    "2. Sources\n",
    "   (a) Created by: Karl Ulrich (MIT) in 1986\n",
    "   (b) Donor: Ross Quinlan\n",
    "   (c) Date: May 1993\n",
    "\n",
    "3. Past Usage:\n",
    "\n",
    "   1.  Quinlan, J.R., \"Learning with continuous classes\", Proc. 5th Australian\n",
    "       Joint Conference on AI (eds A. Adams and L. Sterling), Singapore: World\n",
    "       Scientific, 1992\n",
    " \n",
    "   2.  Quinlan, J.R., \"Combining instance-based and model-based learning\",\n",
    "       Proc. ML'93 (ed P.E. Utgoff), San Mateo: Morgan Kaufmann 1993\n",
    " \n",
    "       Results on 10-way cross-validation:\n",
    " \n",
    "       Method\t\t\tAverage\t\tRelative\n",
    "       ------\t\t\t |Err|\t\t Error\n",
    " \t\t\t\t-------\t\t--------\n",
    " \n",
    "       Guessing mean\t\t  1.15\t\t  1.00\n",
    "       Instance-based\t\t   .52\t\t   .26\n",
    "       Regression\t\t   .86\t\t   .49\n",
    "       Model trees\t\t   .45\t\t   .29\n",
    "       Neural nets (G. Hinton)\t   .30\t\t   .11\n",
    "       Regression+instances\t   .48\t\t   .20\n",
    "       Model trees+instances\t   .30\t\t   .17\n",
    "       NN+instances\t\t   .29\t\t   .11\n",
    " \n",
    "4. Relevant Information:\n",
    "\n",
    "   Ross Quinlan:\n",
    "\n",
    "   This data was given to me by Karl Ulrich at MIT in 1986.  I didn't \n",
    "   record his description at the time, but here's his subsequent (1992) \n",
    "   recollection:\n",
    " \n",
    "     \"I seem to remember that the data was from a simulation of a servo\n",
    "     system involving a servo amplifier, a motor, a lead screw/nut, and a\n",
    "     sliding carriage of some sort.  It may have been on of the\n",
    "     translational axes of a robot on the 9th floor of the AI lab.  In any\n",
    "     case, the output value is almost certainly a rise time, or the time\n",
    "     required for the system to respond to a step change in a position set\n",
    "     point.\"\n",
    " \n",
    "   (Quinlan, ML'93)\n",
    "\n",
    "   \"This is an interesting collection of data provided by Karl \n",
    "    Ulrich.  It covers an extremely non-linear phenomenon - predicting the \n",
    "    rise time of a servomechanism in terms of two (continuous) gain settings\n",
    "    and two (discrete) choices of mechanical linkages.\"\n",
    "\n",
    "5. Number of Instances: 167\n",
    "\n",
    "6. Number of Attributes: 4 + numeric class attribute\n",
    "\n",
    "7. Attribute information:\n",
    "\n",
    "   1. motor: A,B,C,D,E\n",
    "   2. screw: A,B,C,D,E\n",
    "   3. pgain: 3,4,5,6\n",
    "   4. vgain: 1,2,3,4,5\n",
    "   5. class: 0.13 to 7.10\n",
    "\n",
    "8. Missing Attribute Values: None\n",
    "```"
   ]
  },
  {
   "cell_type": "code",
   "execution_count": 40,
   "metadata": {},
   "outputs": [],
   "source": [
    "# Load the data\n",
    "data_url = \"https://archive.ics.uci.edu/ml/machine-learning-databases/servo/servo.data\"\n",
    "servo_df = spark.createDataFrame(pd.read_csv(data_url, \n",
    "            sep=',', \n",
    "            header=None,\n",
    "            names=['motor', 'screw', 'pgain', 'vgain', 'rise_time']))"
   ]
  },
  {
   "cell_type": "markdown",
   "metadata": {},
   "source": [
    "# 1. Explore the data"
   ]
  },
  {
   "cell_type": "markdown",
   "metadata": {},
   "source": [
    "With big data, datasets can be too big to bring them into the Spark client. However, we can use the `limit` method of a dataframe to limit the number of rows to bring as a Pandas dataframe"
   ]
  },
  {
   "cell_type": "markdown",
   "metadata": {},
   "source": [
    "Create a dataframe `servo_sample_df` with the first 20 rows of `servo_df`."
   ]
  },
  {
   "cell_type": "code",
   "execution_count": 41,
   "metadata": {
    "deletable": false,
    "nbgrader": {
     "checksum": "451a05ca5f0fd8171dacfea14ac9ba5f",
     "grade": false,
     "grade_id": "cell-c9d521c675b461ab",
     "locked": false,
     "schema_version": 1,
     "solution": true
    }
   },
   "outputs": [],
   "source": [
    "# create `servo_sample_df`\n",
    "# YOUR CODE HERE\n",
    "servo_sample_df = servo_df.limit(20)\n",
    "#raise NotImplementedError()"
   ]
  },
  {
   "cell_type": "code",
   "execution_count": 42,
   "metadata": {
    "deletable": false,
    "editable": false,
    "nbgrader": {
     "checksum": "43a81391a0c03b713650167c51d422a8",
     "grade": true,
     "grade_id": "cell-945bf936abee733a",
     "locked": true,
     "points": 2,
     "schema_version": 1,
     "solution": false
    }
   },
   "outputs": [],
   "source": [
    "# 2 pts - right number of rows\n",
    "np.testing.assert_equal(servo_sample_df.count(), 20)"
   ]
  },
  {
   "cell_type": "markdown",
   "metadata": {},
   "source": [
    "**(3 pts)** Below, transform `servo_sample_df` into a Pandas dataframe and do a scatter plot of `pgain` vs `rise_time`"
   ]
  },
  {
   "cell_type": "code",
   "execution_count": 43,
   "metadata": {
    "deletable": false,
    "nbgrader": {
     "checksum": "9d391fad8156223a222178d6b656f6dc",
     "grade": true,
     "grade_id": "cell-1df4f53b56e45b6e",
     "locked": false,
     "points": 3,
     "schema_version": 1,
     "solution": true
    }
   },
   "outputs": [
    {
     "data": {
      "text/plain": [
       "<matplotlib.axes._subplots.AxesSubplot at 0x7f5adc1d64a8>"
      ]
     },
     "execution_count": 43,
     "metadata": {},
     "output_type": "execute_result"
    },
    {
     "data": {
      "image/png": "[encoded data removed]",
      "text/plain": [
       "<Figure size 432x288 with 1 Axes>"
      ]
     },
     "metadata": {
      "needs_background": "light"
     },
     "output_type": "display_data"
    }
   ],
   "source": [
    "# YOUR CODE HERE\n",
    "servo_sample_df.toPandas().plot(x='pgain', y='rise_time', kind='scatter')\n",
    "#raise NotImplementedError()"
   ]
  },
  {
   "cell_type": "markdown",
   "metadata": {},
   "source": [
    "**(3 pts)** Below, transform `servo_sample_df` into a Pandas dataframe and do a scatter plot of `vgain` vs `rise_time`"
   ]
  },
  {
   "cell_type": "code",
   "execution_count": 44,
   "metadata": {
    "deletable": false,
    "nbgrader": {
     "checksum": "fba3bc6e5a7085effcbedb3f55e6ac55",
     "grade": true,
     "grade_id": "cell-35b7ad7b19c37628",
     "locked": false,
     "points": 3,
     "schema_version": 1,
     "solution": true
    }
   },
   "outputs": [
    {
     "data": {
      "text/plain": [
       "<matplotlib.axes._subplots.AxesSubplot at 0x7f5adc1b3550>"
      ]
     },
     "execution_count": 44,
     "metadata": {},
     "output_type": "execute_result"
    },
    {
     "data": {
      "image/png": "[encoded data removed]",
      "text/plain": [
       "<Figure size 432x288 with 1 Axes>"
      ]
     },
     "metadata": {
      "needs_background": "light"
     },
     "output_type": "display_data"
    }
   ],
   "source": [
    "# YOUR CODE HERE\n",
    "servo_sample_df.toPandas().plot(x='vgain', y='rise_time', kind='scatter')\n",
    "#raise NotImplementedError()"
   ]
  },
  {
   "cell_type": "markdown",
   "metadata": {},
   "source": [
    "## Perform correlations between vgain-rise time, pgain-rise time, and vgain-pgain"
   ]
  },
  {
   "cell_type": "markdown",
   "metadata": {},
   "source": [
    "Create a `servo_corr_df` dataframe that contains the correlations between `vgain` and `rise_time` as a column `corr_vgain_rise_time`, between `pgain` and `rise_time` as `corr_pgain_rise_time`, and `vgain` and `pgain` as `corr_vgain_pgain`."
   ]
  },
  {
   "cell_type": "code",
   "execution_count": 45,
   "metadata": {
    "deletable": false,
    "nbgrader": {
     "checksum": "d63807a257294b716b517f2cc48dea12",
     "grade": false,
     "grade_id": "cell-f59db3726a6aa941",
     "locked": false,
     "schema_version": 1,
     "solution": true
    }
   },
   "outputs": [
    {
     "name": "stdout",
     "output_type": "stream",
     "text": [
      "+--------------------+--------------------+------------------+\n",
      "|corr_vgain_rise_time|corr_pgain_rise_time|  corr_vgain_pgain|\n",
      "+--------------------+--------------------+------------------+\n",
      "|-0.36438266626914595| -0.5981287119612234|0.8122683058183875|\n",
      "+--------------------+--------------------+------------------+\n",
      "\n"
     ]
    }
   ],
   "source": [
    "# create `servo_corr_df` here\n",
    "# correlations\n",
    "servo_corr_df = servo_df.select(fn.corr('vgain', 'rise_time').alias('corr_vgain_rise_time')\n",
    "                                ,fn.corr('pgain', 'rise_time').alias('corr_pgain_rise_time')\n",
    "                                ,fn.corr('pgain', 'vgain').alias('corr_vgain_pgain'))\n",
    "servo_corr_df.show()\n",
    "#raise NotImplementedError()"
   ]
  },
  {
   "cell_type": "code",
   "execution_count": 46,
   "metadata": {
    "deletable": false,
    "editable": false,
    "nbgrader": {
     "checksum": "63043687d2890640bf59ccf9fcabe580",
     "grade": true,
     "grade_id": "cell-fe722ee58305de94",
     "locked": true,
     "points": 2,
     "schema_version": 1,
     "solution": false
    }
   },
   "outputs": [],
   "source": [
    "## 7 pts\n",
    "np.testing.assert_equal(set(servo_corr_df.columns), \n",
    "                        {'corr_pgain_rise_time', 'corr_vgain_pgain', 'corr_vgain_rise_time'})\n",
    "np.testing.assert_almost_equal(list(servo_corr_df.first().asDict().values()),\n",
    "                               [-0.36438266626914595, -0.5981287119612234, 0.8122683058183874], decimal=3)"
   ]
  },
  {
   "cell_type": "markdown",
   "metadata": {},
   "source": [
    "## Compute mean rise_time for different motors and screws"
   ]
  },
  {
   "cell_type": "markdown",
   "metadata": {},
   "source": [
    "Create `motor_rise_time_df` with the column `motor` and `avg_rise_time`, where `avg_rise_time` is the average rise time for a motor. Sort the resulting dataframe from highest to lowest average rise time."
   ]
  },
  {
   "cell_type": "code",
   "execution_count": 47,
   "metadata": {
    "deletable": false,
    "nbgrader": {
     "checksum": "ad93ae6ce6e96f87f92ad0cea9481137",
     "grade": false,
     "grade_id": "cell-98ecb41cfdc326a3",
     "locked": false,
     "schema_version": 1,
     "solution": true
    }
   },
   "outputs": [
    {
     "name": "stdout",
     "output_type": "stream",
     "text": [
      "+-----+------------------+\n",
      "|motor|     avg_rise_time|\n",
      "+-----+------------------+\n",
      "|    A| 1.761110668888889|\n",
      "|    B|1.6819423677777776|\n",
      "|    C|1.2540610067500002|\n",
      "|    E|1.1448932081818182|\n",
      "|    D|0.9176125145454544|\n",
      "+-----+------------------+\n",
      "\n"
     ]
    }
   ],
   "source": [
    "# YOUR CODE HERE\n",
    "motor_rise_time_df = servo_df.groupBy('motor').agg(fn.mean('rise_time').alias('avg_rise_time')).orderBy('avg_rise_time', ascending = False)\n",
    "motor_rise_time_df.show()\n",
    "#raise NotImplementedError()"
   ]
  },
  {
   "cell_type": "code",
   "execution_count": 48,
   "metadata": {
    "deletable": false,
    "editable": false,
    "nbgrader": {
     "checksum": "6f7434dd709bd1f10a5cb88b13e8b48d",
     "grade": true,
     "grade_id": "cell-a3fd7964078508ad",
     "locked": true,
     "points": 3,
     "schema_version": 1,
     "solution": false
    }
   },
   "outputs": [],
   "source": [
    "# 3 pts\n",
    "np.testing.assert_array_equal(np.array(motor_rise_time_df.rdd.map(lambda x: list(x.asDict().values())).collect()),\n",
    "                                  [['A', '1.761110668888889'],\n",
    "       ['B', '1.6819423677777776'],\n",
    "       ['C', '1.2540610067500002'],\n",
    "       ['E', '1.1448932081818182'],\n",
    "       ['D', '0.9176125145454544']])"
   ]
  },
  {
   "cell_type": "markdown",
   "metadata": {},
   "source": [
    "Create `screw_rise_time_df` with the column `screw` and `avg_rise_time` sorted from highest to lowest average rise time."
   ]
  },
  {
   "cell_type": "code",
   "execution_count": 49,
   "metadata": {
    "deletable": false,
    "nbgrader": {
     "checksum": "b2a40fc0219dc6b18a898e6b8557110c",
     "grade": false,
     "grade_id": "cell-8ace067a04ebf09a",
     "locked": false,
     "schema_version": 1,
     "solution": true
    }
   },
   "outputs": [
    {
     "name": "stdout",
     "output_type": "stream",
     "text": [
      "+-----+------------------+\n",
      "|screw|     avg_rise_time|\n",
      "+-----+------------------+\n",
      "|    A| 1.768461212142857|\n",
      "|    B|1.3919625091428571|\n",
      "|    C|1.2485862280645161|\n",
      "|    E|1.2256432917241378|\n",
      "|    D|1.1612471173333332|\n",
      "+-----+------------------+\n",
      "\n"
     ]
    }
   ],
   "source": [
    "# YOUR CODE HERE\n",
    "screw_rise_time_df = servo_df.groupBy('screw').agg(fn.mean('rise_time').alias('avg_rise_time')).orderBy('avg_rise_time', ascending = False)\n",
    "screw_rise_time_df.show()\n",
    "#raise NotImplementedError()"
   ]
  },
  {
   "cell_type": "code",
   "execution_count": 50,
   "metadata": {
    "deletable": false,
    "editable": false,
    "nbgrader": {
     "checksum": "44a393ea9875eb532d39441c2d17619e",
     "grade": true,
     "grade_id": "cell-e72d1676e16b246b",
     "locked": true,
     "points": 3,
     "schema_version": 1,
     "solution": false
    }
   },
   "outputs": [],
   "source": [
    "# 3 pts\n",
    "np.testing.assert_array_equal(np.array(screw_rise_time_df.rdd.map(lambda x: list(x.asDict().values())).collect()),\n",
    "                                  [['A', '1.768461212142857'],\n",
    "       ['B', '1.3919625091428571'],\n",
    "       ['C', '1.2485862280645161'],\n",
    "       ['E', '1.2256432917241378'],\n",
    "       ['D', '1.1612471173333332']])"
   ]
  },
  {
   "cell_type": "markdown",
   "metadata": {},
   "source": [
    "# Feature engineering"
   ]
  },
  {
   "cell_type": "markdown",
   "metadata": {},
   "source": [
    "## Dummy variables for motors and screws\n",
    "Create a dataframe `dummy_df` with columns `motor` and `screw` as dummy variables, and columns `vgain`, `pgain`, and `rise_time`. Use motor D and screw C as the baselines and name the dummy variables `motor_A` for motor `A` and so on. Follow a similar pattern for screw. The dataframe `dummy_df` should not contain the columns `motor` and `screw` but only their dummy variable representations. **All column types should be float or integer.**"
   ]
  },
  {
   "cell_type": "code",
   "execution_count": 51,
   "metadata": {
    "deletable": false,
    "nbgrader": {
     "checksum": "50bd1d331eeeeecabad0c2c873438372",
     "grade": false,
     "grade_id": "cell-eb211f716041febd",
     "locked": false,
     "schema_version": 1,
     "solution": true
    }
   },
   "outputs": [
    {
     "name": "stdout",
     "output_type": "stream",
     "text": [
      "+-------+-------+-------+-------+-------+-------+-------+-------+-----+-----+----------+\n",
      "|motor_A|motor_B|motor_C|motor_E|screw_A|screw_B|screw_D|screw_E|pgain|vgain| rise_time|\n",
      "+-------+-------+-------+-------+-------+-------+-------+-------+-----+-----+----------+\n",
      "|    0.0|    0.0|    0.0|    1.0|    0.0|    0.0|    0.0|    1.0|    5|    4|0.28125095|\n",
      "|    0.0|    1.0|    0.0|    0.0|    0.0|    0.0|    1.0|    0.0|    6|    5| 0.5062525|\n",
      "|    0.0|    0.0|    0.0|    0.0|    0.0|    0.0|    1.0|    0.0|    4|    3|0.35625148|\n",
      "|    0.0|    1.0|    0.0|    0.0|    1.0|    0.0|    0.0|    0.0|    3|    2|  5.500033|\n",
      "|    0.0|    0.0|    0.0|    0.0|    0.0|    1.0|    0.0|    0.0|    6|    5|0.35625148|\n",
      "|    0.0|    0.0|    0.0|    1.0|    0.0|    0.0|    0.0|    0.0|    4|    3| 0.8062546|\n",
      "|    0.0|    0.0|    1.0|    0.0|    1.0|    0.0|    0.0|    0.0|    3|    2|  5.100014|\n",
      "|    1.0|    0.0|    0.0|    0.0|    1.0|    0.0|    0.0|    0.0|    3|    2| 5.7000422|\n",
      "|    0.0|    0.0|    1.0|    0.0|    1.0|    0.0|    0.0|    0.0|    6|    5|0.76875436|\n",
      "|    0.0|    0.0|    0.0|    0.0|    1.0|    0.0|    0.0|    0.0|    4|    1| 1.0312537|\n",
      "|    0.0|    1.0|    0.0|    0.0|    0.0|    0.0|    0.0|    1.0|    6|    5|0.46875226|\n",
      "|    0.0|    0.0|    0.0|    1.0|    0.0|    0.0|    0.0|    0.0|    5|    4|0.39375174|\n",
      "|    0.0|    1.0|    0.0|    0.0|    0.0|    0.0|    0.0|    0.0|    4|    1|0.28125095|\n",
      "|    0.0|    0.0|    0.0|    1.0|    0.0|    0.0|    0.0|    0.0|    3|    1|       1.1|\n",
      "|    0.0|    0.0|    1.0|    0.0|    0.0|    0.0|    0.0|    0.0|    5|    4| 0.5062525|\n",
      "|    0.0|    0.0|    0.0|    1.0|    0.0|    1.0|    0.0|    0.0|    3|    2| 1.8999897|\n",
      "|    0.0|    0.0|    0.0|    0.0|    0.0|    0.0|    0.0|    0.0|    3|    1| 0.9000011|\n",
      "|    0.0|    1.0|    0.0|    0.0|    0.0|    0.0|    0.0|    0.0|    5|    4|0.46875226|\n",
      "|    0.0|    1.0|    0.0|    0.0|    0.0|    1.0|    0.0|    0.0|    5|    4| 0.5437528|\n",
      "|    0.0|    0.0|    1.0|    0.0|    0.0|    0.0|    0.0|    1.0|    4|    2|0.20625044|\n",
      "+-------+-------+-------+-------+-------+-------+-------+-------+-----+-----+----------+\n",
      "only showing top 20 rows\n",
      "\n"
     ]
    }
   ],
   "source": [
    "# create dummy_df below\n",
    "# YOUR CODE HERE\n",
    "# code here\n",
    "dummy_df = servo_df.select(\n",
    "               (fn.col('motor')=='A').cast('float').alias('motor_A'),\n",
    "               (fn.col('motor')=='B').cast('float').alias('motor_B'),\n",
    "               (fn.col('motor')=='C').cast('float').alias('motor_C'),\n",
    "               (fn.col('motor')=='E').cast('float').alias('motor_E'),\n",
    "               (fn.col('screw')=='A').cast('float').alias('screw_A'),\n",
    "               (fn.col('screw')=='B').cast('float').alias('screw_B'),\n",
    "               (fn.col('screw')=='D').cast('float').alias('screw_D'),\n",
    "               (fn.col('screw')=='E').cast('float').alias('screw_E'),\n",
    "               fn.col('pgain').cast('integer'),\n",
    "               fn.col('vgain').cast('integer'),\n",
    "               fn.col('rise_time').cast('float')            \n",
    "               )\n",
    "dummy_df.show()\n",
    "# raise NotImplementedError()"
   ]
  },
  {
   "cell_type": "code",
   "execution_count": 52,
   "metadata": {
    "deletable": false,
    "editable": false,
    "nbgrader": {
     "checksum": "54ee15ea1229510a08e9c1b1acb1a039",
     "grade": true,
     "grade_id": "cell-9fdc091f4ff491bf",
     "locked": true,
     "points": 3,
     "schema_version": 1,
     "solution": false
    }
   },
   "outputs": [],
   "source": [
    "# 3 pts\n",
    "np.testing.assert_equal(len(dummy_df.columns), 11)\n",
    "np.testing.assert_equal(dummy_df.select(fn.sum('motor_A')).first()['sum(motor_A)'], 36)\n",
    "np.testing.assert_equal(dummy_df.select(fn.sum('screw_A')).first()['sum(screw_A)'], 42)"
   ]
  },
  {
   "cell_type": "markdown",
   "metadata": {},
   "source": [
    "##  Apply min-max scaling to  vgain and pgain\n",
    "Starting from `dummy_df` create a dataframe `mm_dummy_df` that replaces `pgain` and `vgain` by the min-max scaled values of them. The new columns should be named `mm_pgain` and `mm_vgain`. `pgain` and `vgain` should not appear in `mm_dummy_df`.\n",
    "\n",
    "The value of a feature $x$ is scaled with min-max if you apply the following to it\n",
    "\n",
    "$$\\text{minmax}(x_i) = \\frac{x_i - \\min(x)}{\\max(x) - \\min(x)}$$\n",
    "\n",
    "where $\\min(x)$ and $\\max(x)$ are the minimum and maximum values of $x$ across all the dataset."
   ]
  },
  {
   "cell_type": "code",
   "execution_count": 53,
   "metadata": {},
   "outputs": [],
   "source": [
    "pgain_stat = dummy_df.select(fn.min('pgain').alias('min_pgain'),fn.max('pgain').alias('max_pgain')).first()\n",
    "vgain_stat = dummy_df.select(fn.min('vgain').alias('min_vgain'),fn.max('vgain').alias('max_vgain')).first()"
   ]
  },
  {
   "cell_type": "code",
   "execution_count": 54,
   "metadata": {
    "deletable": false,
    "nbgrader": {
     "checksum": "11637c1f11c291891dd68ecb5e2fb9fa",
     "grade": false,
     "grade_id": "cell-68aac1f86ddc2119",
     "locked": false,
     "schema_version": 1,
     "solution": true
    }
   },
   "outputs": [
    {
     "data": {
      "text/plain": [
       "<bound method DataFrame.show of DataFrame[mm_pgain: double, mm_vgain: double, motor_A: float, motor_B: float, motor_C: float, motor_E: float, rise_time: float, screw_A: float, screw_B: float, screw_D: float, screw_E: float]>"
      ]
     },
     "execution_count": 54,
     "metadata": {},
     "output_type": "execute_result"
    }
   ],
   "source": [
    "# create `mm_dummy_df` here\n",
    "# YOUR CODE HERE\n",
    "mm_dummy_df = dummy_df.withColumn('mm_pgain',(fn.col('pgain')-pgain_stat['min_pgain'])/(pgain_stat['max_pgain']-pgain_stat['min_pgain'])\n",
    "                                  ).drop(\"pgain\")\n",
    "mm_dummy_df = mm_dummy_df.withColumn('mm_vgain',(fn.col('vgain')-vgain_stat['min_vgain'])/(vgain_stat['max_vgain']-vgain_stat['min_vgain'])\n",
    "                                 ).drop('vgain')\n",
    "\n",
    "mm_dummy_df = mm_dummy_df.select('mm_pgain',\n",
    " 'mm_vgain',\n",
    " 'motor_A',\n",
    " 'motor_B',\n",
    " 'motor_C',\n",
    " 'motor_E',\n",
    " 'rise_time',\n",
    " 'screw_A',\n",
    " 'screw_B',\n",
    " 'screw_D',\n",
    " 'screw_E')\n",
    "mm_dummy_df.show                           \n",
    "#raise NotImplementedError()"
   ]
  },
  {
   "cell_type": "code",
   "execution_count": 55,
   "metadata": {
    "deletable": false,
    "editable": false,
    "nbgrader": {
     "checksum": "75c78aeec6f0dced628e0733078ed48e",
     "grade": true,
     "grade_id": "cell-ef68e3505eb5902d",
     "locked": true,
     "points": 6,
     "schema_version": 1,
     "solution": false
    }
   },
   "outputs": [],
   "source": [
    "np.testing.assert_equal(set(mm_dummy_df.columns), \n",
    "                        {'mm_pgain',\n",
    " 'mm_vgain',\n",
    " 'motor_A',\n",
    " 'motor_B',\n",
    " 'motor_C',\n",
    " 'motor_E',\n",
    " 'rise_time',\n",
    " 'screw_A',\n",
    " 'screw_B',\n",
    " 'screw_D',\n",
    " 'screw_E'})\n",
    "# test limits\n",
    "np.testing.assert_equal(mm_dummy_df.select(fn.max('mm_vgain')).first()['max(mm_vgain)'], 1.0)\n",
    "np.testing.assert_equal(mm_dummy_df.select(fn.min('mm_vgain')).first()['min(mm_vgain)'], 0.0)\n",
    "np.testing.assert_equal(mm_dummy_df.select(fn.max('mm_pgain')).first()['max(mm_pgain)'], 1.0)\n",
    "np.testing.assert_equal(mm_dummy_df.select(fn.min('mm_pgain')).first()['min(mm_pgain)'], 0.0)"
   ]
  },
  {
   "cell_type": "markdown",
   "metadata": {},
   "source": [
    "# Model comparison\n",
    "\n",
    "In the next set of questions, you will use the splits below to fit, validate, and estimate the generalization error of your models. The `randomSplit` is called with a seed so that it does not change from what the professor used."
   ]
  },
  {
   "cell_type": "code",
   "execution_count": 56,
   "metadata": {
    "deletable": false,
    "editable": false,
    "nbgrader": {
     "checksum": "d46f1ece4daa4509dc96c16a582feb3b",
     "grade": false,
     "grade_id": "cell-50d140f5bb9fb0a6",
     "locked": true,
     "schema_version": 1,
     "solution": false
    }
   },
   "outputs": [
    {
     "name": "stdout",
     "output_type": "stream",
     "text": [
      "# points in training:  111\n",
      "# points in validation:  42\n",
      "# points in testing:  14\n"
     ]
    }
   ],
   "source": [
    "training_df, validation_df, testing_df = mm_dummy_df.randomSplit([0.6, 0.3, 0.1], seed=0)\n",
    "print(\"# points in training: \", training_df.count())\n",
    "print(\"# points in validation: \", validation_df.count())\n",
    "print(\"# points in testing: \", testing_df.count())"
   ]
  },
  {
   "cell_type": "markdown",
   "metadata": {},
   "source": [
    "## Propose three regression models\n",
    "\n",
    "In the next section, you will choose the best model to explain the data in `servo_df`. Select the right split of the data for the right step of the process (i.e., training, validation, and testing)"
   ]
  },
  {
   "cell_type": "markdown",
   "metadata": {},
   "source": [
    "### Model 1: Fit model with only `pgain`\n",
    "\n",
    "Create a pipeline that takes *pgain* as a feature to predict *rise time* and fits a linear regression model. You should start your pipeline by taking the appropriate column or columns from `mm_dummy_df` in which the raw feature `pgain` may or may not have been feature engineered. Assign the fit pipeline transformer to `pipe_model1`. Your pipeline must have one vector assembler followed by a linear regression."
   ]
  },
  {
   "cell_type": "code",
   "execution_count": 57,
   "metadata": {
    "deletable": false,
    "nbgrader": {
     "checksum": "e13dd6486f50f9fdd385d0e435a808b5",
     "grade": false,
     "grade_id": "cell-3b76b5c1134779fc",
     "locked": false,
     "schema_version": 1,
     "solution": true
    }
   },
   "outputs": [],
   "source": [
    "# create `pipe_model1` below\n",
    "# YOUR CODE HERE\n",
    "va = feature.VectorAssembler(inputCols = ['mm_pgain'], outputCol = 'features')\n",
    "lr = regression.LinearRegression(featuresCol = 'features', labelCol = 'rise_time')\n",
    "pipe = Pipeline(stages = [va, lr])\n",
    "pipe_model1 = pipe.fit(training_df)\n",
    "predictions1_df = pipe_model1.transform(validation_df)\n",
    "# raise NotImplementedError()"
   ]
  },
  {
   "cell_type": "code",
   "execution_count": 58,
   "metadata": {
    "deletable": false,
    "editable": false,
    "nbgrader": {
     "checksum": "b1c239aa677cdd76caa08a036ae4cffd",
     "grade": true,
     "grade_id": "cell-3944466629fee9da",
     "locked": true,
     "points": 5,
     "schema_version": 1,
     "solution": false
    }
   },
   "outputs": [],
   "source": [
    "# (5 pts)\n",
    "np.testing.assert_equal(type(pipe_model1.stages[0]), feature.VectorAssembler)\n",
    "np.testing.assert_equal(type(pipe_model1.stages[1]), regression.LinearRegressionModel)\n",
    "np.testing.assert_array_equal(pipe_model1.stages[1].coefficients.shape, (1,))"
   ]
  },
  {
   "cell_type": "markdown",
   "metadata": {},
   "source": [
    "### Model 2: Fit model with only `vgain`\n",
    "\n",
    "Follow the same idea as above and create a pipeline transformer `pipe_model2`"
   ]
  },
  {
   "cell_type": "code",
   "execution_count": 59,
   "metadata": {
    "deletable": false,
    "nbgrader": {
     "checksum": "a9befb44f4f0a022cff725205ae67877",
     "grade": false,
     "grade_id": "cell-52aee024a8f17921",
     "locked": false,
     "schema_version": 1,
     "solution": true
    }
   },
   "outputs": [],
   "source": [
    "# YOUR CODE HERE\n",
    "va = feature.VectorAssembler(inputCols = ['mm_vgain'], outputCol = 'features')\n",
    "lr = regression.LinearRegression(featuresCol = 'features', labelCol = 'rise_time')\n",
    "pipe = Pipeline(stages = [va, lr])\n",
    "pipe_model2 = pipe.fit(training_df)\n",
    "predictions2_df = pipe_model2.transform(validation_df)\n",
    "#raise NotImplementedError()"
   ]
  },
  {
   "cell_type": "code",
   "execution_count": 60,
   "metadata": {
    "deletable": false,
    "editable": false,
    "nbgrader": {
     "checksum": "4932a21cd41306da5c217705433507f7",
     "grade": true,
     "grade_id": "cell-d278316c89d97741",
     "locked": true,
     "points": 5,
     "schema_version": 1,
     "solution": false
    }
   },
   "outputs": [],
   "source": [
    "# (5 pts)\n",
    "np.testing.assert_equal(type(pipe_model2.stages[0]), feature.VectorAssembler)\n",
    "np.testing.assert_equal(type(pipe_model2.stages[1]), regression.LinearRegressionModel)\n",
    "np.testing.assert_array_equal(pipe_model2.stages[1].coefficients.shape, (1,))"
   ]
  },
  {
   "cell_type": "markdown",
   "metadata": {},
   "source": [
    "### Model 3: Fit model with only motor, screw, pgain, and vgain\n",
    "\n",
    "Follow the same idea as above and create a pipeline transformer `pipe_model3`. Remember that some features have been feature engineered. In particular, use the transformed columns in the order: motor, screw, pgain, and vgain. Choose the columns from `mm_dummy_df` appropriately."
   ]
  },
  {
   "cell_type": "code",
   "execution_count": 61,
   "metadata": {
    "deletable": false,
    "nbgrader": {
     "checksum": "35a8633d09ab0c29fd669fee3c06e97a",
     "grade": false,
     "grade_id": "cell-c120f9f58afe1ee6",
     "locked": false,
     "schema_version": 1,
     "solution": true
    }
   },
   "outputs": [],
   "source": [
    "# create `pipe_model2` below\n",
    "# YOUR CODE HERE\n",
    "va = feature.VectorAssembler(inputCols = ['motor_A','motor_B','motor_C','motor_E','screw_A','screw_B','screw_D','screw_E'\n",
    "                                          ,'mm_pgain','mm_vgain'], outputCol = 'features')\n",
    "lr = regression.LinearRegression(featuresCol = 'features', labelCol = 'rise_time')\n",
    "pipe = Pipeline(stages = [va, lr])\n",
    "pipe_model3 = pipe.fit(training_df)\n",
    "predictions3_df = pipe_model3.transform(validation_df)\n",
    "#raise NotImplementedError()"
   ]
  },
  {
   "cell_type": "code",
   "execution_count": 62,
   "metadata": {
    "deletable": false,
    "editable": false,
    "nbgrader": {
     "checksum": "64c5a8082b38841e089079c4fde91727",
     "grade": true,
     "grade_id": "cell-1cfd038a4f349405",
     "locked": true,
     "points": 5,
     "schema_version": 1,
     "solution": false
    }
   },
   "outputs": [],
   "source": [
    "# (5 pts)\n",
    "np.testing.assert_equal(type(pipe_model3.stages[0]), feature.VectorAssembler)\n",
    "np.testing.assert_equal(type(pipe_model3.stages[1]), regression.LinearRegressionModel)\n",
    "np.testing.assert_array_equal(pipe_model3.stages[1].coefficients.shape, (10,))"
   ]
  },
  {
   "cell_type": "markdown",
   "metadata": {},
   "source": [
    "# Compare models"
   ]
  },
  {
   "cell_type": "markdown",
   "metadata": {},
   "source": [
    "### Estimate RMSE on validation data for the three models\n",
    "\n",
    "Create three dataframes `rmse1_df`, `rmse2_df`, and `rmse3_df` for models 1, 2, and 3, respectively, with only with column `rmse`"
   ]
  },
  {
   "cell_type": "code",
   "execution_count": 63,
   "metadata": {
    "deletable": false,
    "nbgrader": {
     "checksum": "dc5e62f02884fcce8ae909945800700f",
     "grade": false,
     "grade_id": "cell-a9dc54b0e8d696ef",
     "locked": false,
     "schema_version": 1,
     "solution": true
    }
   },
   "outputs": [],
   "source": [
    "# create rmse1_df, rmse2_df, and rmse3_df dataframes below\n",
    "# YOUR CODE HERE\n",
    "rmse1_df = predictions1_df.select((fn.col('prediction')-fn.col('rise_time')).alias('Error')).\\\n",
    "    select(fn.sqrt(fn.avg(fn.col('Error')**2)).alias('rmse')) \n",
    "\n",
    "rmse2_df = predictions2_df.select((fn.col('prediction')-fn.col('rise_time')).alias('Error')).\\\n",
    "    select(fn.sqrt(fn.avg(fn.col('Error')**2)).alias('rmse')) \n",
    "\n",
    "rmse3_df = predictions3_df.select((fn.col('prediction')-fn.col('rise_time')).alias('Error')).\\\n",
    "    select(fn.sqrt(fn.avg(fn.col('Error')**2)).alias('rmse')) \n",
    "\n",
    "#raise NotImplementedError()"
   ]
  },
  {
   "cell_type": "code",
   "execution_count": 64,
   "metadata": {},
   "outputs": [
    {
     "name": "stdout",
     "output_type": "stream",
     "text": [
      "+------------------+\n",
      "|              rmse|\n",
      "+------------------+\n",
      "|1.4413698814003613|\n",
      "+------------------+\n",
      "\n",
      "+------------------+\n",
      "|              rmse|\n",
      "+------------------+\n",
      "|1.6435655058934688|\n",
      "+------------------+\n",
      "\n",
      "+------------------+\n",
      "|              rmse|\n",
      "+------------------+\n",
      "|1.1801063539757934|\n",
      "+------------------+\n",
      "\n"
     ]
    }
   ],
   "source": [
    "# display the answers here\n",
    "rmse1_df.show()\n",
    "rmse2_df.show()\n",
    "rmse3_df.show()"
   ]
  },
  {
   "cell_type": "code",
   "execution_count": 65,
   "metadata": {
    "deletable": false,
    "editable": false,
    "nbgrader": {
     "checksum": "5184ddaec56494171407cfb72d94dd58",
     "grade": true,
     "grade_id": "cell-ef7fe89203dcf7ae",
     "locked": true,
     "points": 5,
     "schema_version": 1,
     "solution": false
    }
   },
   "outputs": [],
   "source": [
    "# (5 pts)\n",
    "np.testing.assert_equal(rmse1_df.count(), 1)\n",
    "np.testing.assert_equal(rmse2_df.count(), 1)\n",
    "np.testing.assert_equal(rmse3_df.count(), 1)\n",
    "np.testing.assert_equal(rmse1_df.columns, ['rmse'])\n",
    "np.testing.assert_equal(rmse2_df.columns, ['rmse'])\n",
    "np.testing.assert_equal(rmse3_df.columns, ['rmse'])"
   ]
  },
  {
   "cell_type": "markdown",
   "metadata": {},
   "source": [
    "Assign the best cross validated model to a variable `best_model` below"
   ]
  },
  {
   "cell_type": "code",
   "execution_count": 66,
   "metadata": {
    "deletable": false,
    "nbgrader": {
     "checksum": "3f7ff2f70265cbad1dc39394c737a946",
     "grade": false,
     "grade_id": "cell-ae68c8174768b63e",
     "locked": false,
     "schema_version": 1,
     "solution": true
    }
   },
   "outputs": [],
   "source": [
    "# assign best model (the best pipeline transformer) to a variable best_model below\n",
    "# YOUR CODE HERE\n",
    "#Model pipe_model3 is best because it has the least rmse value \n",
    "best_model = pipe_model3\n",
    "#raise NotImplementedError()"
   ]
  },
  {
   "cell_type": "code",
   "execution_count": 67,
   "metadata": {
    "deletable": false,
    "editable": false,
    "nbgrader": {
     "checksum": "fcc3dc6f5df51a28be6efa4aed843866",
     "grade": true,
     "grade_id": "cell-8d3e6c2fc9feb10f",
     "locked": true,
     "points": 2,
     "schema_version": 1,
     "solution": false
    }
   },
   "outputs": [],
   "source": [
    "# (5 pts)\n",
    "np.testing.assert_equal(type(best_model), pyspark.ml.pipeline.PipelineModel)"
   ]
  },
  {
   "cell_type": "markdown",
   "metadata": {},
   "source": [
    "### Estimate generalization performance with RMSE\n",
    "\n",
    "Create a variable `rmse_best_df` that contains the RMSE of the best model on testing data"
   ]
  },
  {
   "cell_type": "code",
   "execution_count": 68,
   "metadata": {
    "deletable": false,
    "nbgrader": {
     "checksum": "69148aec455c19af6abda44a65d5c6cf",
     "grade": false,
     "grade_id": "cell-be77e90562322046",
     "locked": false,
     "schema_version": 1,
     "solution": true
    }
   },
   "outputs": [],
   "source": [
    "# create rmse_best_df\n",
    "# YOUR CODE HERE\n",
    "predictions_test_df = best_model.transform(testing_df)\n",
    "rmse_best_df = predictions_test_df.select((fn.col('prediction')-fn.col('rise_time')).alias('Error')).\\\n",
    "    select(fn.sqrt(fn.avg(fn.col('Error')**2)).alias('rmse')) \n",
    "#raise NotImplementedError()"
   ]
  },
  {
   "cell_type": "code",
   "execution_count": 69,
   "metadata": {
    "deletable": false,
    "editable": false,
    "nbgrader": {
     "checksum": "9a496ead0654ee61fcfa6802586301e9",
     "grade": true,
     "grade_id": "cell-7ea33e8409261269",
     "locked": true,
     "points": 3,
     "schema_version": 1,
     "solution": false
    }
   },
   "outputs": [],
   "source": [
    "# (3 pts)\n",
    "np.testing.assert_equal(rmse_best_df.count(), 1)\n",
    "np.testing.assert_equal(rmse_best_df.columns, ['rmse'])"
   ]
  },
  {
   "cell_type": "markdown",
   "metadata": {},
   "source": [
    "(2 pts) What is the best estimated generalization performance of the best model? Answer in the cell below"
   ]
  },
  {
   "cell_type": "code",
   "execution_count": 70,
   "metadata": {
    "deletable": false,
    "nbgrader": {
     "checksum": "87ceb0a1ca6b81effacaacd94574af69",
     "grade": true,
     "grade_id": "cell-250e44de7b4539f3",
     "locked": false,
     "points": 3,
     "schema_version": 1,
     "solution": true
    }
   },
   "outputs": [
    {
     "name": "stdout",
     "output_type": "stream",
     "text": [
      "+-----------------+\n",
      "|             rmse|\n",
      "+-----------------+\n",
      "|1.223813802007709|\n",
      "+-----------------+\n",
      "\n"
     ]
    }
   ],
   "source": [
    "# YOUR CODE HERE\n",
    "rmse_best_df.show()\n",
    "#raise NotImplementedError()"
   ]
  },
  {
   "cell_type": "markdown",
   "metadata": {},
   "source": [
    "# Do inference with best model"
   ]
  },
  {
   "cell_type": "markdown",
   "metadata": {},
   "source": [
    "Assume that model 3 is the best one. Redefine a new pipeline for this model called `pipe_model_best` and fit it to the **entire training data** (all of `mm_dummy_df`)."
   ]
  },
  {
   "cell_type": "code",
   "execution_count": 71,
   "metadata": {
    "deletable": false,
    "nbgrader": {
     "checksum": "7414f608465227abb4a64b9657bb0f72",
     "grade": false,
     "grade_id": "cell-5d347fc67e4a77b6",
     "locked": false,
     "schema_version": 1,
     "solution": true
    }
   },
   "outputs": [
    {
     "name": "stdout",
     "output_type": "stream",
     "text": [
      "coefficients pipe_model_best [1.4302994632639758,1.351131153495935,1.163731460794015,0.7438666460826988,1.0825045814846244,0.3617844395426156,-0.12295758298117612,-0.08318359374321067,-4.930585091255738,2.2679909921423884]\n"
     ]
    }
   ],
   "source": [
    "# create `pipe_model_best` below\n",
    "# YOUR CODE HERE\n",
    "pipe_model_best = Pipeline(stages=[\n",
    "  feature.VectorAssembler(inputCols = ['motor_A','motor_B','motor_C','motor_E','screw_A','screw_B',\n",
    "                                          'screw_D','screw_E','mm_pgain','mm_vgain'], outputCol='features'),\n",
    "  regression.LinearRegression(featuresCol='features', labelCol='rise_time')  \n",
    "]).fit(mm_dummy_df)\n",
    "\n",
    "\n",
    "print(\"coefficients pipe_model_best\", pipe_model_best.stages[1].coefficients)\n",
    "\n",
    "#raise NotImplementedError()"
   ]
  },
  {
   "cell_type": "code",
   "execution_count": 72,
   "metadata": {
    "deletable": false,
    "editable": false,
    "nbgrader": {
     "checksum": "611fb0c236c233f6cb9d7f2732af7c19",
     "grade": true,
     "grade_id": "cell-230c8b35da808e47",
     "locked": true,
     "points": 3,
     "schema_version": 1,
     "solution": false
    }
   },
   "outputs": [],
   "source": [
    "# (3 pts) check that the model was fitted correctly\n",
    "np.testing.assert_equal(type(pipe_model_best.stages[0]), feature.VectorAssembler)\n",
    "np.testing.assert_equal(type(pipe_model_best.stages[1]), regression.LinearRegressionModel)\n",
    "np.testing.assert_array_equal(pipe_model_best.stages[1].coefficients.shape, (10,))"
   ]
  },
  {
   "cell_type": "markdown",
   "metadata": {},
   "source": [
    "**(4 pts)** Since all features on `mm_dummy_df` were standardized to be within the same range (e.g., 0 and 1), we can compare their importance directly by looking at the coefficients of the linear regression. Taking motor D and screw C as the baseline, what are the top 2 most important features for *increasing rise time* and the top 2 most important features for *decreasing rise time*? Answer below with code and comments to support your answer"
   ]
  },
  {
   "cell_type": "code",
   "execution_count": 73,
   "metadata": {
    "deletable": false,
    "nbgrader": {
     "checksum": "26b6ef569dc2c8207c0e69cc984d80b9",
     "grade": true,
     "grade_id": "cell-a1305a62d8222591",
     "locked": false,
     "points": 4,
     "schema_version": 1,
     "solution": true
    }
   },
   "outputs": [
    {
     "name": "stdout",
     "output_type": "stream",
     "text": [
      "coefficients pipe_model_best [1.4302994632639758,1.351131153495935,1.163731460794015,0.7438666460826988,1.0825045814846244,0.3617844395426156,-0.12295758298117612,-0.08318359374321067,-4.930585091255738,2.2679909921423884]\n"
     ]
    }
   ],
   "source": [
    "# YOUR CODE HERE\n",
    "print(\"coefficients pipe_model_best\", pipe_model_best.stages[1].coefficients)\n",
    "# If we observe the coeffiecients (multiplication factor) for vgain (mm_vgain), motor A increase the rise time \n",
    "# as they have highest coeffiecient. For features pgain (mm_pgain) and screw D have the higest negative i.e. lowest coeffiecient\n",
    "# , and thus it is responsible for decreasing the rise time.\n",
    "# raise NotImplementedError()"
   ]
  }
 ],
 "metadata": {
  "kernelspec": {
   "display_name": "Python 3",
   "language": "python",
   "name": "python3"
  },
  "language_info": {
   "codemirror_mode": {
    "name": "ipython",
    "version": 3
   },
   "file_extension": ".py",
   "mimetype": "text/x-python",
   "name": "python",
   "nbconvert_exporter": "python",
   "pygments_lexer": "ipython3",
   "version": "3.6.6"
  }
 },
 "nbformat": 4,
 "nbformat_minor": 2
}
