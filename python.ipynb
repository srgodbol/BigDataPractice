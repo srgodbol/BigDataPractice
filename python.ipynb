{
 "cells": [
  {
   "cell_type": "markdown",
   "metadata": {
    "deletable": false,
    "editable": false,
    "nbgrader": {
     "checksum": "f7c7682418ecdc5d585ace48fdd19467",
     "grade": false,
     "grade_id": "cell-35d20a6688444d1c",
     "locked": true,
     "schema_version": 1,
     "solution": false
    }
   },
   "source": [
    "# IST 718: Big Data Analytics\n",
    "\n",
    "- Professor: Daniel Acuna <deacuna@syr.edu>\n",
    "- TA: Tong Zeng <tozeng@syr.edu>\n",
    "\n",
    "# Homework 1\n",
    "\n",
    "## General instructions\n",
    "\n",
    "Before downloading and submitting your work through Blackboard, remember to save and press `Validate` (or go to `Kernel`$\\rightarrow$`Restart and Run All`). The tests shown in some cells might not be the only ones used by the professor."
   ]
  },
  {
   "cell_type": "markdown",
   "metadata": {},
   "source": [
    "# Part 2: Basic Python programming"
   ]
  },
  {
   "cell_type": "markdown",
   "metadata": {},
   "source": [
    "## Question 2.1: Basic data types (5 pts)\n",
    "\n",
    "Create variables containing specific types\n",
    "- `a` integer type (`int`)\n",
    "- `b` floating type (`float`)\n",
    "- `c` string type (`str`)\n",
    "- `d` list type (`list`)\n",
    "- `e` dictionary type (`dict`)\n",
    "- `f` tuple type (`tuple`)\n",
    "- `g` set type(`set`)\n",
    "\n",
    "For example,\n",
    "```python\n",
    "a = 1\n",
    "```"
   ]
  },
  {
   "cell_type": "code",
   "execution_count": 1,
   "metadata": {
    "deletable": false,
    "nbgrader": {
     "checksum": "b22d5fbb8e6e66ba683b90e0f0e05758",
     "grade": false,
     "grade_id": "cell-44734e6d8cfc336f",
     "locked": false,
     "schema_version": 1,
     "solution": true
    }
   },
   "outputs": [],
   "source": [
    "# example\n",
    "a = 1\n",
    "b = 1.1\n",
    "c = \"abc\"\n",
    "d = [1,2,3]\n",
    "e = {1:1,2:\"Two\",\"Three\":3}\n",
    "f = (\"Data\",\"Science\")\n",
    "g = {\"Data\",\"Science\"}\n",
    "# YOUR CODE HERE\n",
    "# raise NotImplementedError()"
   ]
  },
  {
   "cell_type": "code",
   "execution_count": 2,
   "metadata": {
    "deletable": false,
    "editable": false,
    "nbgrader": {
     "checksum": "158fadd96116d4fa8c916f518b61037b",
     "grade": true,
     "grade_id": "cell-14b68ec3bb8458cb",
     "locked": true,
     "points": 5,
     "schema_version": 1,
     "solution": false
    }
   },
   "outputs": [],
   "source": [
    "assert type(a) == int\n",
    "assert type(b) == float\n",
    "assert type(c) == str\n",
    "assert type(d) == list\n",
    "assert type(e) == dict\n",
    "assert type(f) == tuple\n",
    "assert type(g) == set"
   ]
  },
  {
   "cell_type": "markdown",
   "metadata": {},
   "source": [
    "## Question 2.2: Finding an element in a list (10 pts)\n",
    "\n",
    "Using a for loop, create a function that receives a list `L` of integers and an element `e`. The function should return the index of the element `e` in `L`. Make use of the length of the list (e.g., `len(L)`) and `range` to access each of index of the list. \n",
    "\n",
    "- If there are no elements that contain `e` or L is empty,  return `-1`.\n",
    "- Only return the first index that contains the element.\n",
    "\n",
    "For example, the index of `2` in `[1,2,3]` is 1. Therefore, `find_element([1,2,3], 2)` should return 1"
   ]
  },
  {
   "cell_type": "code",
   "execution_count": 3,
   "metadata": {
    "deletable": false,
    "nbgrader": {
     "checksum": "588d04519a1e2dd3efa4cbef2c164cac",
     "grade": false,
     "grade_id": "cell-fc5a397c1d4bc38c",
     "locked": false,
     "schema_version": 1,
     "solution": true
    }
   },
   "outputs": [],
   "source": [
    "def find_element(L, e):\n",
    "    \"\"\"Find index of first ocurrence of e in list L. If not found, it returns -1\"\"\"\n",
    "    # YOUR CODE HERE\n",
    "    index = 0\n",
    "    for i in L:\n",
    "        if i == e:\n",
    "            break\n",
    "        index+=1    \n",
    "    if index == len(L):\n",
    "        index = -1\n",
    "    return index\n",
    "    raise NotImplementedError()"
   ]
  },
  {
   "cell_type": "code",
   "execution_count": 4,
   "metadata": {
    "deletable": false,
    "editable": false,
    "nbgrader": {
     "checksum": "099334e8c0dce751a3cadf6366b36960",
     "grade": true,
     "grade_id": "cell-bd1c7805ca9d2fba",
     "locked": true,
     "points": 10,
     "schema_version": 1,
     "solution": false
    }
   },
   "outputs": [],
   "source": [
    "assert find_element([], 0) == -1\n",
    "assert find_element([1], 0) == -1\n",
    "assert find_element([1,2,3,4,5], 2) == 1\n",
    "assert find_element([1,2,3,4,5], 5) == 4\n",
    "assert find_element([1,2,2,2,1], 2) == 1"
   ]
  },
  {
   "cell_type": "markdown",
   "metadata": {},
   "source": [
    "## Question 2.3: Finding elements 2 (5 pts)\n",
    "\n",
    "Modify the code of Question 2.2 to return the index of the element only if it is found in odd indices (i.e., 1, 3, 5, etc). Hint: You can easily achieve this by looking at how `range` works (https://docs.python.org/3/library/stdtypes.html#typesseq-range)"
   ]
  },
  {
   "cell_type": "code",
   "execution_count": 5,
   "metadata": {
    "deletable": false,
    "nbgrader": {
     "checksum": "5c90972b8e5a83057e851309c03e0fab",
     "grade": false,
     "grade_id": "cell-9b7fc5e5d436ab8e",
     "locked": false,
     "schema_version": 1,
     "solution": true
    }
   },
   "outputs": [],
   "source": [
    "def find_element_odd(L, e):\n",
    "    \"\"\"Find index of first ocurrence of e in list L. If not found, it returns -1\"\"\"\n",
    "    # YOUR CODE HERE\n",
    "    index = 0\n",
    "    for i in L:\n",
    "        if i == e:\n",
    "            break\n",
    "        index+=1    \n",
    "    if index == len(L) or index%2 == 0:\n",
    "        index = -1\n",
    "    return index\n",
    "    raise NotImplementedError()"
   ]
  },
  {
   "cell_type": "code",
   "execution_count": 6,
   "metadata": {
    "deletable": false,
    "editable": false,
    "nbgrader": {
     "checksum": "f731a22b09f2ffef229cb00243a43a1e",
     "grade": true,
     "grade_id": "cell-56f7074ffffef0c6",
     "locked": true,
     "points": 5,
     "schema_version": 1,
     "solution": false
    }
   },
   "outputs": [],
   "source": [
    "assert find_element_odd([], 0) == -1\n",
    "assert find_element_odd([1], 0) == -1\n",
    "assert find_element_odd([1,2,3,4,5], 2) == 1\n",
    "assert find_element_odd([1,2,3,4,5], 5) == -1\n",
    "assert find_element_odd([1,2,2,2,1], 2) == 1"
   ]
  },
  {
   "cell_type": "markdown",
   "metadata": {},
   "source": [
    "## Question 2.3: Mean (10 pts)\n",
    "\n",
    "There are several built-in functions for Python's lists of numbers. One of them is `sum` which returns the sum of all elements in a list. Use this function to create a function that computes the mean of a list of numberes. If the list is empty, return 0.\n",
    "\n",
    "**Only use vanilla list not `numpy`**"
   ]
  },
  {
   "cell_type": "code",
   "execution_count": 7,
   "metadata": {
    "deletable": false,
    "nbgrader": {
     "checksum": "49d33eaddc64cb66a9092366ef72ffb2",
     "grade": false,
     "grade_id": "cell-313f91e6e47a866e",
     "locked": false,
     "schema_version": 1,
     "solution": true
    }
   },
   "outputs": [],
   "source": [
    "def mean(L):\n",
    "    \"\"\"Return mean of numerical elements in L. return 0 if L is empty\"\"\"\n",
    "    if sum(L) != 0:\n",
    "        return sum(L)/len(L)\n",
    "    else:\n",
    "        return 0\n",
    "    # YOUR CODE HERE\n",
    "    raise NotImplementedError()"
   ]
  },
  {
   "cell_type": "code",
   "execution_count": 8,
   "metadata": {
    "deletable": false,
    "editable": false,
    "nbgrader": {
     "checksum": "2f4a5e367ea63f4102639e03695d22a4",
     "grade": true,
     "grade_id": "cell-e38588dabb73c551",
     "locked": true,
     "points": 10,
     "schema_version": 1,
     "solution": false
    }
   },
   "outputs": [],
   "source": [
    "assert mean([1]) == 1\n",
    "assert mean([0,10]) == 5\n",
    "assert mean([-10.5, 0.5]) == -5\n",
    "assert mean([]) == 0"
   ]
  },
  {
   "cell_type": "markdown",
   "metadata": {},
   "source": [
    "## Question 2.4: Variance (20 pts)\n",
    "\n",
    "Using only for loops, variable assignments, and reusing the function in Question 2.3, implement a function that computes the population variance of a list of numbers `L`. This is for a vector $x$ of length $n$, the population variance is\n",
    "\n",
    "$\\text{var}(x) = \\frac{1}{n} \\sum_{i=1}^n (x_i - \\bar{x})^2$\n",
    "\n",
    "where $\\bar{x}$ is the mean of $x$\n",
    "\n",
    "If the list is empty, return `float(\"inf\")`, which represents infinity\n",
    "\n",
    "**Only use vanilla list not `numpy`**"
   ]
  },
  {
   "cell_type": "code",
   "execution_count": 9,
   "metadata": {
    "deletable": false,
    "nbgrader": {
     "checksum": "c930b7ef121d6f26e7697f51614c51e5",
     "grade": false,
     "grade_id": "cell-207394a94ccf1b12",
     "locked": false,
     "schema_version": 1,
     "solution": true
    }
   },
   "outputs": [],
   "source": [
    "def var(L):\n",
    "    if len(L) == 0:\n",
    "        return float(\"inf\")\n",
    "    else:\n",
    "        return sum((i-mean(L))**2 for i in L)/len(L)\n",
    "        \n",
    "    # YOUR CODE HERE\n",
    "    raise NotImplementedError()"
   ]
  },
  {
   "cell_type": "code",
   "execution_count": 10,
   "metadata": {},
   "outputs": [
    {
     "data": {
      "text/plain": [
       "0.0"
      ]
     },
     "execution_count": 10,
     "metadata": {},
     "output_type": "execute_result"
    }
   ],
   "source": [
    "# try it yourself\n",
    "var([1])"
   ]
  },
  {
   "cell_type": "code",
   "execution_count": 11,
   "metadata": {},
   "outputs": [
    {
     "data": {
      "text/plain": [
       "inf"
      ]
     },
     "execution_count": 11,
     "metadata": {},
     "output_type": "execute_result"
    }
   ],
   "source": [
    "var([])"
   ]
  },
  {
   "cell_type": "code",
   "execution_count": 12,
   "metadata": {
    "deletable": false,
    "editable": false,
    "nbgrader": {
     "checksum": "02af750694c6fa66de2567422a158c22",
     "grade": true,
     "grade_id": "cell-e7c3507db876deba",
     "locked": true,
     "points": 20,
     "schema_version": 1,
     "solution": false
    }
   },
   "outputs": [],
   "source": [
    "\"\"\"Test variance function\"\"\"\n",
    "assert var([]) == float(\"inf\")\n",
    "assert var([-10, 10]) == 100\n",
    "assert var([1]) == 0\n",
    "assert var([-1]) == 0"
   ]
  },
  {
   "cell_type": "markdown",
   "metadata": {},
   "source": [
    "## Question 2.5: BuzzFizz (25 pts)\n",
    "\n",
    "Remember the FizzBuzz problem from class. We will run a modification called BuzzFizz. By default, we will return the __squares__ of the numbers from 1 to 30. This time, instead of _printing_ the result, you will return a list of  with the results. But for numbers that are multiple of 3, we will produce the string \"Buzz\", and for numbers that are multiple of 4 we will produce the string \"Fizz\". If a number is multiple of 3 and 4, we will produce the string \"BuzzFizz\". \n",
    "\n",
    "The first 12 elements of the list should be\n",
    "\n",
    "- 1\n",
    "- 4\n",
    "- \"Buzz\"\n",
    "- \"Fizz\"\n",
    "- 25\n",
    "- \"Buzz\"\n",
    "- 49\n",
    "- \"Fizz\"\n",
    "- \"Buzz\"\n",
    "- 100\n",
    "- 121\n",
    "- \"BuzzFizz\""
   ]
  },
  {
   "cell_type": "code",
   "execution_count": 13,
   "metadata": {
    "deletable": false,
    "nbgrader": {
     "checksum": "1b9d0c63cc15c68d8df016d5aa43a514",
     "grade": false,
     "grade_id": "cell-2a659b9c25270e2d",
     "locked": false,
     "schema_version": 1,
     "solution": true
    }
   },
   "outputs": [],
   "source": [
    "def buzzfizz():\n",
    "    results = []\n",
    "    for i in range(1, 31):\n",
    "    # YOUR CODE HERE\n",
    "        if i%3==0 and i%4==0:\n",
    "            results.append(\"BuzzFizz\")\n",
    "        elif i%4==0:\n",
    "            results.append(\"Fizz\")\n",
    "        elif i%3==0:\n",
    "            results.append(\"Buzz\")\n",
    "        else:\n",
    "            results.append(i**2)      \n",
    "    # raise NotImplementedError()\n",
    "    return results"
   ]
  },
  {
   "cell_type": "code",
   "execution_count": 14,
   "metadata": {
    "deletable": false,
    "editable": false,
    "nbgrader": {
     "checksum": "da028fa036d0ac9b36238afa619f3c43",
     "grade": true,
     "grade_id": "cell-5748318ee26f4e7a",
     "locked": true,
     "points": 25,
     "schema_version": 1,
     "solution": false
    }
   },
   "outputs": [],
   "source": [
    "assert len(buzzfizz()) == 30\n",
    "assert buzzfizz()[0:6] == [1, 4, 'Buzz', 'Fizz', 25, 'Buzz']\n",
    "assert buzzfizz()[23] == \"BuzzFizz\""
   ]
  },
  {
   "cell_type": "code",
   "execution_count": null,
   "metadata": {},
   "outputs": [],
   "source": []
  }
 ],
 "metadata": {
  "kernelspec": {
   "display_name": "Python 3",
   "language": "python",
   "name": "python3"
  },
  "language_info": {
   "codemirror_mode": {
    "name": "ipython",
    "version": 3
   },
   "file_extension": ".py",
   "mimetype": "text/x-python",
   "name": "python",
   "nbconvert_exporter": "python",
   "pygments_lexer": "ipython3",
   "version": "3.6.3"
  }
 },
 "nbformat": 4,
 "nbformat_minor": 2
}
