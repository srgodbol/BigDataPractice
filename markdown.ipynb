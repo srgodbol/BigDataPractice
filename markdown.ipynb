{
 "cells": [
  {
   "cell_type": "markdown",
   "metadata": {
    "deletable": false,
    "editable": false,
    "nbgrader": {
     "checksum": "f88e5c1c6553627b0007bd52838b5f3f",
     "grade": false,
     "grade_id": "cell-e30dcbd2a183567a",
     "locked": true,
     "schema_version": 1,
     "solution": false
    }
   },
   "source": [
    "# IST 718: Big Data Analytics\n",
    "\n",
    "- Professor: Daniel Acuna <deacuna@syr.edu>\n",
    "- TA: Tong Zeng <tozeng@syr.edu>\n",
    "\n",
    "# Homework 1\n",
    "\n",
    "## General instructions..\n",
    "\n",
    "Before downloading and submitting your work through Blackboard, remember to save and press `Validate` (or go to `Kernel`$\\rightarrow$`Restart and Run All`). The tests shown in some cells might not be the only ones used by the professor."
   ]
  },
  {
   "cell_type": "markdown",
   "metadata": {},
   "source": [
    "# Part 1: Markdown\n"
   ]
  },
  {
   "cell_type": "markdown",
   "metadata": {},
   "source": [
    "## Question 1.1 (5 pts)\n",
    "\n",
    "In the following Markdown cell, write any text and add formatting so that there is one phrase or word that is italized, another phrase or word that is bold faced, and a phrase or word that is both bold and italic."
   ]
  },
  {
   "cell_type": "markdown",
   "metadata": {
    "deletable": false,
    "nbgrader": {
     "checksum": "3dc57725f21f36fd1ff9c97be0961ec5",
     "grade": true,
     "grade_id": "cell-093b6d9faffe8701",
     "locked": false,
     "points": 5,
     "schema_version": 1,
     "solution": true
    }
   },
   "source": [
    "Normal Text: IST 718\n",
    "\n",
    "Italic: *Big Data Analytics*\n",
    "\n",
    "Bold: **Ischool**\n",
    "\n",
    "Bold and Italics: **_Syracuse University_**"
   ]
  },
  {
   "cell_type": "markdown",
   "metadata": {},
   "source": [
    "## Question 1.2 (5 pts)\n",
    "\n",
    "Add a link to Syracuse University that shows the text \"Syracuse University\" and goes to the URL http://www.syracuse.edu This means that the rendered Markdown __should not__ display the URL."
   ]
  },
  {
   "cell_type": "markdown",
   "metadata": {
    "deletable": false,
    "nbgrader": {
     "checksum": "ad81d1d66cd6798d0a30ee1e32c514a7",
     "grade": true,
     "grade_id": "cell-76bfcc1c48410a0c",
     "locked": false,
     "points": 5,
     "schema_version": 1,
     "solution": true
    }
   },
   "source": [
    "[Syracuse University](http://www.syracuse.edu)"
   ]
  },
  {
   "cell_type": "markdown",
   "metadata": {
    "deletable": false,
    "editable": false,
    "nbgrader": {
     "checksum": "9c9bacbdca058b47dbda1c024f91b79f",
     "grade": false,
     "grade_id": "cell-64f0ace8261244e4",
     "locked": true,
     "schema_version": 1,
     "solution": false
    }
   },
   "source": [
    "## Question 1.3 (5 pts)\n",
    "\n",
    "Create all six levels of headings with the text \"H1\", \"H2\", ..., \"H6\""
   ]
  },
  {
   "cell_type": "markdown",
   "metadata": {
    "deletable": false,
    "nbgrader": {
     "checksum": "7657cf0959b2599cad5c188926b473b0",
     "grade": true,
     "grade_id": "cell-472f7ffe850fbb78",
     "locked": false,
     "points": 5,
     "schema_version": 1,
     "solution": true
    }
   },
   "source": [
    "# H1\n",
    "\n",
    "## H2\n",
    "\n",
    "### H3\n",
    "\n",
    "#### H4\n",
    "\n",
    "##### H5\n",
    "\n",
    "###### H6"
   ]
  },
  {
   "cell_type": "markdown",
   "metadata": {},
   "source": [
    "## Question 1.4 (5 pts)\n",
    "\n",
    "Using Markdown, display the image whose URL is http://jupyter.org/assets/hublogo.svg"
   ]
  },
  {
   "cell_type": "markdown",
   "metadata": {
    "deletable": false,
    "nbgrader": {
     "checksum": "2d7d327e44f87d845a80263b5ec0bfc3",
     "grade": true,
     "grade_id": "cell-d07375c09adf5a54",
     "locked": false,
     "points": 5,
     "schema_version": 1,
     "solution": true
    }
   },
   "source": [
    "<img src = \"http://jupyter.org/assets/hublogo.svg\">"
   ]
  },
  {
   "cell_type": "markdown",
   "metadata": {},
   "source": [
    "## Question 1.5 (5 pts)\n",
    "\n",
    "Create a numbered list where the first level contains \"Introduction\", \"Methods\", \"Results\", and \"Conclusion\". Within \"Introduction\", create a second level that contains \"State of the art\" and \"This article\". Within \"Methods\", create a second level that contains a list with \"Data\" and \"Algorithms\". Within \"Conclusion\", create a second level that contains a list with \"This article\" and \"Future work\""
   ]
  },
  {
   "cell_type": "markdown",
   "metadata": {
    "deletable": false,
    "nbgrader": {
     "checksum": "fba79e1d3f5e7f4bf5193d38c432150a",
     "grade": true,
     "grade_id": "cell-a9d39e61848b72e3",
     "locked": false,
     "points": 5,
     "schema_version": 1,
     "solution": true
    }
   },
   "source": [
    "1. Introduction  \n",
    " 1.1 State of the art  \n",
    " 1.2 This article\n",
    "2. Methods  \n",
    " 3.1 Data  \n",
    " 3.2 Algorithms\n",
    "3. Results  \n",
    "4. Conclusion  \n",
    " 4.1 This article  \n",
    " 4.2Future work"
   ]
  }
 ],
 "metadata": {
  "kernelspec": {
   "display_name": "Python 3",
   "language": "python",
   "name": "python3"
  },
  "language_info": {
   "codemirror_mode": {
    "name": "ipython",
    "version": 3
   },
   "file_extension": ".py",
   "mimetype": "text/x-python",
   "name": "python",
   "nbconvert_exporter": "python",
   "pygments_lexer": "ipython3",
   "version": "3.6.3"
  }
 },
 "nbformat": 4,
 "nbformat_minor": 2
}
